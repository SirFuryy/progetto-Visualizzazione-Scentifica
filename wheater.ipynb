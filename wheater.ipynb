{
 "cells": [
  {
   "cell_type": "code",
   "execution_count": 1,
   "metadata": {},
   "outputs": [
    {
     "name": "stderr",
     "output_type": "stream",
     "text": [
      "req         WARNING \tDEFAULT CACHE ENABLED! (184.99 MB) C:\\Users\\giacomotommi\\AppData\\Local\\Temp\\fastf1\n",
      "core           INFO \tLoading data for United States Grand Prix - Qualifying [v3.4.4]\n",
      "req            INFO \tUsing cached data for session_info\n",
      "req            INFO \tUsing cached data for driver_info\n",
      "req            INFO \tUsing cached data for session_status_data\n",
      "req            INFO \tUsing cached data for track_status_data\n",
      "req            INFO \tUsing cached data for _extended_timing_data\n",
      "req            INFO \tUsing cached data for timing_app_data\n",
      "core           INFO \tProcessing timing data...\n",
      "req            INFO \tUsing cached data for car_data\n",
      "req            INFO \tUsing cached data for position_data\n",
      "req            INFO \tUsing cached data for weather_data\n",
      "req            INFO \tUsing cached data for race_control_messages\n",
      "core           INFO \tFinished loading data for 20 drivers: ['4', '1', '55', '16', '81', '63', '10', '14', '20', '11', '22', '27', '31', '18', '30', '23', '43', '77', '44', '24']\n",
      "core           INFO \tLoading data for United States Grand Prix - Qualifying [v3.4.4]\n"
     ]
    },
    {
     "name": "stdout",
     "output_type": "stream",
     "text": [
      "2024 Season Round 19: United States Grand Prix - Qualifying\n"
     ]
    },
    {
     "name": "stderr",
     "output_type": "stream",
     "text": [
      "req            INFO \tUsing cached data for session_info\n",
      "req            INFO \tUsing cached data for driver_info\n",
      "req            INFO \tUsing cached data for session_status_data\n",
      "req            INFO \tUsing cached data for track_status_data\n",
      "req            INFO \tUsing cached data for _extended_timing_data\n",
      "req            INFO \tUsing cached data for timing_app_data\n",
      "core           INFO \tProcessing timing data...\n",
      "req            INFO \tUsing cached data for car_data\n",
      "req            INFO \tUsing cached data for position_data\n",
      "req            INFO \tUsing cached data for weather_data\n",
      "req            INFO \tUsing cached data for race_control_messages\n",
      "core           INFO \tFinished loading data for 20 drivers: ['16', '4', '44', '55', '63', '1', '10', '31', '11', '81', '22', '24', '77', '20', '3', '27', '14', '23', '18', '2']\n"
     ]
    },
    {
     "name": "stdout",
     "output_type": "stream",
     "text": [
      "2023 Season Round 18: United States Grand Prix - Qualifying\n"
     ]
    }
   ],
   "source": [
    "import fastf1 as ff1 # type: ignore\n",
    "import pandas as pd\n",
    "from fastf1.core import Laps\n",
    "\n",
    "Q = ff1.get_session(2024, 'Austin', 4)\n",
    "Q.load(weather=True)\n",
    "print(Q)\n",
    "\n",
    "Q2023 = ff1.get_session(2023, 'Austin', 2)\n",
    "Q2023.load(weather=True)\n",
    "print(Q2023)"
   ]
  },
  {
   "cell_type": "code",
   "execution_count": 5,
   "metadata": {},
   "outputs": [
    {
     "name": "stdout",
     "output_type": "stream",
     "text": [
      "                     Time  AirTemp  Humidity  Pressure  Rainfall  TrackTemp  \\\n",
      "0  0 days 00:00:32.588000     28.5      40.0    1005.5     False       39.2   \n",
      "1  0 days 00:01:32.587000     28.5      41.0    1005.6     False       39.2   \n",
      "2  0 days 00:02:32.588000     28.5      41.0    1005.6     False       39.2   \n",
      "3  0 days 00:03:32.594000     28.5      41.0    1005.5     False       39.1   \n",
      "4  0 days 00:04:32.589000     28.4      41.0    1005.6     False       39.0   \n",
      "..                    ...      ...       ...       ...       ...        ...   \n",
      "70 0 days 01:10:32.875000     28.2      38.0    1005.5     False       36.2   \n",
      "71 0 days 01:11:32.875000     28.1      38.0    1005.4     False       36.2   \n",
      "72 0 days 01:12:32.879000     28.1      38.0    1005.4     False       35.9   \n",
      "73 0 days 01:13:32.892000     28.1      38.0    1005.5     False       35.9   \n",
      "74 0 days 01:14:32.895000     28.2      38.0    1005.5     False       36.0   \n",
      "\n",
      "    WindDirection  WindSpeed  \n",
      "0             176        2.0  \n",
      "1             180        2.4  \n",
      "2             169        1.8  \n",
      "3             170        2.1  \n",
      "4             186        1.3  \n",
      "..            ...        ...  \n",
      "70            161        1.8  \n",
      "71            180        2.1  \n",
      "72            178        2.3  \n",
      "73            170        1.9  \n",
      "74            224        1.4  \n",
      "\n",
      "[75 rows x 8 columns]\n",
      "                     Time  AirTemp  Humidity  Pressure  Rainfall  TrackTemp  \\\n",
      "0  0 days 00:00:36.984000     35.5      12.0     993.5     False       42.6   \n",
      "1  0 days 00:01:36.999000     35.5      12.0     993.4     False       42.6   \n",
      "2  0 days 00:02:36.983000     35.4      12.0     993.4     False       42.6   \n",
      "3  0 days 00:03:36.998000     35.5      12.0     993.5     False       42.5   \n",
      "4  0 days 00:04:36.997000     35.3      12.0     993.5     False       42.5   \n",
      "..                    ...      ...       ...       ...       ...        ...   \n",
      "74 0 days 01:14:37.168000     35.5      13.0     992.9     False       39.8   \n",
      "75 0 days 01:15:37.168000     35.4      13.0     992.9     False       39.7   \n",
      "76 0 days 01:16:37.151000     35.5      13.0     992.9     False       39.7   \n",
      "77 0 days 01:17:37.166000     35.5      13.0     992.9     False       39.7   \n",
      "78 0 days 01:18:37.166000     35.5      13.0     992.9     False       39.6   \n",
      "\n",
      "    WindDirection  WindSpeed  \n",
      "0             289        1.7  \n",
      "1             241        2.2  \n",
      "2             298        2.2  \n",
      "3             310        2.2  \n",
      "4             268        0.8  \n",
      "..            ...        ...  \n",
      "74            279        1.2  \n",
      "75            194        1.2  \n",
      "76            254        1.1  \n",
      "77            259        0.6  \n",
      "78            251        0.6  \n",
      "\n",
      "[79 rows x 8 columns]\n"
     ]
    }
   ],
   "source": [
    "print(Q.weather_data)\n",
    "print(Q2023.weather_data)"
   ]
  },
  {
   "cell_type": "code",
   "execution_count": 8,
   "metadata": {},
   "outputs": [],
   "source": [
    "def save_fastest_laps_to_excel(df, output_file):\n",
    "    with pd.ExcelWriter(output_file, engine=\"openpyxl\") as writer:\n",
    "        df.to_excel(writer, index=False, sheet_name=\"Dati\")\n",
    "        \n",
    "        workbook = writer.book\n",
    "        worksheet = writer.sheets[\"Dati\"]\n",
    "        for col in worksheet.iter_cols(min_row=1, max_row=1, min_col=1, max_col=len(df.columns)):\n",
    "            for cell in col:\n",
    "                cell.style = 'Pandas'\n",
    "\n",
    "from openpyxl import load_workbook\n",
    "def append_to_excel(filename, df, sheet_name=\"Dati\"):\n",
    "    try:\n",
    "        # Carica il file esistente\n",
    "        workbook = load_workbook(filename)\n",
    "        if sheet_name in workbook.sheetnames:\n",
    "            sheet = workbook[sheet_name]\n",
    "            start_row = sheet.max_row + 2  # Calcola la riga di partenza per il nuovo DataFrame\n",
    "        else:\n",
    "            sheet = workbook.create_sheet(sheet_name)\n",
    "            start_row = 1\n",
    "    except FileNotFoundError:\n",
    "        # Se il file non esiste, crealo\n",
    "        workbook = None\n",
    "        start_row = 1\n",
    "\n",
    "    # Scrivi i dati sul file\n",
    "    with pd.ExcelWriter(filename, engine=\"openpyxl\", mode=\"a\", if_sheet_exists=\"overlay\") as writer:\n",
    "        #print(writer.book)\n",
    "        #writer.sheets = {ws.title: ws for ws in workbook.worksheets}\n",
    "        df.to_excel(writer, index=False, header=start_row == 1, startrow=start_row - 1, sheet_name=sheet_name)\n"
   ]
  },
  {
   "cell_type": "code",
   "execution_count": 9,
   "metadata": {},
   "outputs": [],
   "source": [
    "save_fastest_laps_to_excel(Q.weather_data, \"weather_data.xlsx\")\n",
    "append_to_excel(\"weather_data.xlsx\", Q2023.weather_data)\n",
    "\n",
    "# Merge the dataframes\n",
    "# merged_weather = pd.merge(weather_2024, weather_2023, on='Time', suffixes=('_2024', '_2023'))\n",
    "# print(merged_weather)"
   ]
  },
  {
   "cell_type": "code",
   "execution_count": null,
   "metadata": {},
   "outputs": [],
   "source": []
  }
 ],
 "metadata": {
  "kernelspec": {
   "display_name": ".venv",
   "language": "python",
   "name": "python3"
  },
  "language_info": {
   "codemirror_mode": {
    "name": "ipython",
    "version": 3
   },
   "file_extension": ".py",
   "mimetype": "text/x-python",
   "name": "python",
   "nbconvert_exporter": "python",
   "pygments_lexer": "ipython3",
   "version": "3.13.0"
  }
 },
 "nbformat": 4,
 "nbformat_minor": 2
}
