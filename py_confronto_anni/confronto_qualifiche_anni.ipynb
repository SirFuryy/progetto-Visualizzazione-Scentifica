{
 "cells": [
  {
   "cell_type": "markdown",
   "metadata": {},
   "source": [
    "## Scarico i dati\n",
    "+ Dalle API di Fastff1 prendo i dati delle qualifiche del 2023 e del 2024 dei gp che voglio usare per fare il confronto. \n",
    "+ Suddivido i vari blocchi di codice per i singoli gp in modo da snellire il carico di lavoro immediato e per leggere il responso di eventuali errori in maniera più facile. \n",
    "+ Nel primo caso eseguo anche l'importazione delle varie librerie utili"
   ]
  },
  {
   "cell_type": "code",
   "execution_count": 24,
   "metadata": {},
   "outputs": [
    {
     "name": "stderr",
     "output_type": "stream",
     "text": [
      "events      WARNING \tCorrecting user input 'Bahrein' to 'Bahrain Grand Prix'\n",
      "core           INFO \tLoading data for Bahrain Grand Prix - Qualifying [v3.4.4]\n",
      "req            INFO \tUsing cached data for session_info\n",
      "req            INFO \tUsing cached data for driver_info\n",
      "Request for URL https://ergast.com/api/f1/2023/1/qualifying.json failed; using cached response\n",
      "Traceback (most recent call last):\n",
      "  File \"c:\\Users\\giacomotommi\\Documents\\.Tutta la Programmazione dell'Uni\\Python x Visu\\.venv\\Lib\\site-packages\\urllib3\\connectionpool.py\", line 466, in _make_request\n",
      "    self._validate_conn(conn)\n",
      "    ~~~~~~~~~~~~~~~~~~~^^^^^^\n",
      "  File \"c:\\Users\\giacomotommi\\Documents\\.Tutta la Programmazione dell'Uni\\Python x Visu\\.venv\\Lib\\site-packages\\urllib3\\connectionpool.py\", line 1095, in _validate_conn\n",
      "    conn.connect()\n",
      "    ~~~~~~~~~~~~^^\n",
      "  File \"c:\\Users\\giacomotommi\\Documents\\.Tutta la Programmazione dell'Uni\\Python x Visu\\.venv\\Lib\\site-packages\\urllib3\\connection.py\", line 730, in connect\n",
      "    sock_and_verified = _ssl_wrap_socket_and_match_hostname(\n",
      "        sock=sock,\n",
      "    ...<14 lines>...\n",
      "        assert_fingerprint=self.assert_fingerprint,\n",
      "    )\n",
      "  File \"c:\\Users\\giacomotommi\\Documents\\.Tutta la Programmazione dell'Uni\\Python x Visu\\.venv\\Lib\\site-packages\\urllib3\\connection.py\", line 909, in _ssl_wrap_socket_and_match_hostname\n",
      "    ssl_sock = ssl_wrap_socket(\n",
      "        sock=sock,\n",
      "    ...<8 lines>...\n",
      "        tls_in_tls=tls_in_tls,\n",
      "    )\n",
      "  File \"c:\\Users\\giacomotommi\\Documents\\.Tutta la Programmazione dell'Uni\\Python x Visu\\.venv\\Lib\\site-packages\\urllib3\\util\\ssl_.py\", line 469, in ssl_wrap_socket\n",
      "    ssl_sock = _ssl_wrap_socket_impl(sock, context, tls_in_tls, server_hostname)\n",
      "  File \"c:\\Users\\giacomotommi\\Documents\\.Tutta la Programmazione dell'Uni\\Python x Visu\\.venv\\Lib\\site-packages\\urllib3\\util\\ssl_.py\", line 513, in _ssl_wrap_socket_impl\n",
      "    return ssl_context.wrap_socket(sock, server_hostname=server_hostname)\n",
      "           ~~~~~~~~~~~~~~~~~~~~~~~^^^^^^^^^^^^^^^^^^^^^^^^^^^^^^^^^^^^^^^\n",
      "  File \"C:\\Users\\giacomotommi\\AppData\\Local\\Programs\\Python\\Python313\\Lib\\ssl.py\", line 455, in wrap_socket\n",
      "    return self.sslsocket_class._create(\n",
      "           ~~~~~~~~~~~~~~~~~~~~~~~~~~~~^\n",
      "        sock=sock,\n",
      "        ^^^^^^^^^^\n",
      "    ...<5 lines>...\n",
      "        session=session\n",
      "        ^^^^^^^^^^^^^^^\n",
      "    )\n",
      "    ^\n",
      "  File \"C:\\Users\\giacomotommi\\AppData\\Local\\Programs\\Python\\Python313\\Lib\\ssl.py\", line 1076, in _create\n",
      "    self.do_handshake()\n",
      "    ~~~~~~~~~~~~~~~~~^^\n",
      "  File \"C:\\Users\\giacomotommi\\AppData\\Local\\Programs\\Python\\Python313\\Lib\\ssl.py\", line 1372, in do_handshake\n",
      "    self._sslobj.do_handshake()\n",
      "    ~~~~~~~~~~~~~~~~~~~~~~~~~^^\n",
      "TimeoutError: _ssl.c:1003: The handshake operation timed out\n",
      "\n",
      "The above exception was the direct cause of the following exception:\n",
      "\n",
      "Traceback (most recent call last):\n",
      "  File \"c:\\Users\\giacomotommi\\Documents\\.Tutta la Programmazione dell'Uni\\Python x Visu\\.venv\\Lib\\site-packages\\requests\\adapters.py\", line 667, in send\n",
      "    resp = conn.urlopen(\n",
      "        method=request.method,\n",
      "    ...<9 lines>...\n",
      "        chunked=chunked,\n",
      "    )\n",
      "  File \"c:\\Users\\giacomotommi\\Documents\\.Tutta la Programmazione dell'Uni\\Python x Visu\\.venv\\Lib\\site-packages\\urllib3\\connectionpool.py\", line 843, in urlopen\n",
      "    retries = retries.increment(\n",
      "        method, url, error=new_e, _pool=self, _stacktrace=sys.exc_info()[2]\n",
      "    )\n",
      "  File \"c:\\Users\\giacomotommi\\Documents\\.Tutta la Programmazione dell'Uni\\Python x Visu\\.venv\\Lib\\site-packages\\urllib3\\util\\retry.py\", line 474, in increment\n",
      "    raise reraise(type(error), error, _stacktrace)\n",
      "          ~~~~~~~^^^^^^^^^^^^^^^^^^^^^^^^^^^^^^^^^\n",
      "  File \"c:\\Users\\giacomotommi\\Documents\\.Tutta la Programmazione dell'Uni\\Python x Visu\\.venv\\Lib\\site-packages\\urllib3\\util\\util.py\", line 39, in reraise\n",
      "    raise value\n",
      "  File \"c:\\Users\\giacomotommi\\Documents\\.Tutta la Programmazione dell'Uni\\Python x Visu\\.venv\\Lib\\site-packages\\urllib3\\connectionpool.py\", line 789, in urlopen\n",
      "    response = self._make_request(\n",
      "        conn,\n",
      "    ...<10 lines>...\n",
      "        **response_kw,\n",
      "    )\n",
      "  File \"c:\\Users\\giacomotommi\\Documents\\.Tutta la Programmazione dell'Uni\\Python x Visu\\.venv\\Lib\\site-packages\\urllib3\\connectionpool.py\", line 490, in _make_request\n",
      "    raise new_e\n",
      "  File \"c:\\Users\\giacomotommi\\Documents\\.Tutta la Programmazione dell'Uni\\Python x Visu\\.venv\\Lib\\site-packages\\urllib3\\connectionpool.py\", line 468, in _make_request\n",
      "    self._raise_timeout(err=e, url=url, timeout_value=conn.timeout)\n",
      "    ~~~~~~~~~~~~~~~~~~~^^^^^^^^^^^^^^^^^^^^^^^^^^^^^^^^^^^^^^^^^^^^\n",
      "  File \"c:\\Users\\giacomotommi\\Documents\\.Tutta la Programmazione dell'Uni\\Python x Visu\\.venv\\Lib\\site-packages\\urllib3\\connectionpool.py\", line 369, in _raise_timeout\n",
      "    raise ReadTimeoutError(\n",
      "        self, url, f\"Read timed out. (read timeout={timeout_value})\"\n",
      "    ) from err\n",
      "urllib3.exceptions.ReadTimeoutError: HTTPSConnectionPool(host='ergast.com', port=443): Read timed out. (read timeout=5.0)\n",
      "\n",
      "During handling of the above exception, another exception occurred:\n",
      "\n",
      "Traceback (most recent call last):\n",
      "  File \"c:\\Users\\giacomotommi\\Documents\\.Tutta la Programmazione dell'Uni\\Python x Visu\\.venv\\Lib\\site-packages\\requests_cache\\session.py\", line 286, in _resend\n",
      "    response = self._send_and_cache(request, actions, cached_response, **kwargs)\n",
      "  File \"c:\\Users\\giacomotommi\\Documents\\.Tutta la Programmazione dell'Uni\\Python x Visu\\.venv\\Lib\\site-packages\\requests_cache\\session.py\", line 254, in _send_and_cache\n",
      "    response = super().send(request, **kwargs)\n",
      "  File \"c:\\Users\\giacomotommi\\Documents\\.Tutta la Programmazione dell'Uni\\Python x Visu\\.venv\\Lib\\site-packages\\fastf1\\req.py\", line 136, in send\n",
      "    return super().send(request, **kwargs)\n",
      "           ~~~~~~~~~~~~^^^^^^^^^^^^^^^^^^^\n",
      "  File \"c:\\Users\\giacomotommi\\Documents\\.Tutta la Programmazione dell'Uni\\Python x Visu\\.venv\\Lib\\site-packages\\requests\\sessions.py\", line 703, in send\n",
      "    r = adapter.send(request, **kwargs)\n",
      "  File \"c:\\Users\\giacomotommi\\Documents\\.Tutta la Programmazione dell'Uni\\Python x Visu\\.venv\\Lib\\site-packages\\requests\\adapters.py\", line 713, in send\n",
      "    raise ReadTimeout(e, request=request)\n",
      "requests.exceptions.ReadTimeout: HTTPSConnectionPool(host='ergast.com', port=443): Read timed out. (read timeout=5.0)\n",
      "req            INFO \tUsing cached data for session_status_data\n",
      "req            INFO \tUsing cached data for track_status_data\n",
      "req            INFO \tUsing cached data for _extended_timing_data\n",
      "req            INFO \tUsing cached data for timing_app_data\n",
      "core           INFO \tProcessing timing data...\n",
      "req            INFO \tUsing cached data for car_data\n",
      "req            INFO \tUsing cached data for position_data\n",
      "req            INFO \tUsing cached data for weather_data\n",
      "req            INFO \tUsing cached data for race_control_messages\n",
      "core           INFO \tFinished loading data for 20 drivers: ['1', '11', '16', '55', '14', '63', '44', '18', '31', '27', '4', '77', '24', '22', '23', '2', '20', '81', '21', '10']\n",
      "events      WARNING \tCorrecting user input 'Bahrein' to 'Bahrain Grand Prix'\n",
      "core           INFO \tLoading data for Bahrain Grand Prix - Qualifying [v3.4.4]\n",
      "req            INFO \tUsing cached data for session_info\n",
      "req            INFO \tUsing cached data for driver_info\n",
      "req            INFO \tUsing cached data for session_status_data\n",
      "req            INFO \tUsing cached data for track_status_data\n",
      "req            INFO \tUsing cached data for _extended_timing_data\n",
      "req            INFO \tUsing cached data for timing_app_data\n",
      "core           INFO \tProcessing timing data...\n",
      "req            INFO \tUsing cached data for car_data\n",
      "req            INFO \tUsing cached data for position_data\n",
      "req            INFO \tUsing cached data for weather_data\n",
      "req            INFO \tUsing cached data for race_control_messages\n",
      "core           INFO \tFinished loading data for 20 drivers: ['1', '16', '63', '55', '11', '14', '4', '81', '44', '27', '22', '18', '23', '3', '20', '77', '24', '2', '31', '10']\n"
     ]
    }
   ],
   "source": [
    "import pandas as pd\n",
    "import fastf1 as ff1\n",
    "import numpy as np\n",
    "import matplotlib.pyplot as plt\n",
    "import matplotlib as mpl\n",
    "import fastf1.plotting as f1plt\n",
    "\n",
    "GBAR_2023 = ff1.get_session(2023, 'Bahrein', 4)\n",
    "GBAR_2023.load()\n",
    "GBAR_2024 = ff1.get_session(2024, 'Bahrein', 4)\n",
    "GBAR_2024.load()"
   ]
  },
  {
   "cell_type": "code",
   "execution_count": 25,
   "metadata": {},
   "outputs": [
    {
     "name": "stderr",
     "output_type": "stream",
     "text": [
      "core           INFO \tLoading data for Saudi Arabian Grand Prix - Qualifying [v3.4.4]\n",
      "req            INFO \tUsing cached data for session_info\n",
      "req            INFO \tUsing cached data for driver_info\n",
      "req            INFO \tUsing cached data for session_status_data\n",
      "req            INFO \tUsing cached data for track_status_data\n",
      "req            INFO \tUsing cached data for _extended_timing_data\n",
      "req            INFO \tUsing cached data for timing_app_data\n",
      "core           INFO \tProcessing timing data...\n",
      "req            INFO \tUsing cached data for car_data\n",
      "req            INFO \tUsing cached data for position_data\n",
      "req            INFO \tUsing cached data for weather_data\n",
      "req            INFO \tUsing cached data for race_control_messages\n",
      "core           INFO \tFinished loading data for 20 drivers: ['11', '16', '14', '63', '55', '18', '31', '44', '81', '10', '27', '24', '20', '77', '1', '22', '23', '21', '4', '2']\n",
      "core           INFO \tLoading data for Saudi Arabian Grand Prix - Qualifying [v3.4.4]\n",
      "req            INFO \tUsing cached data for session_info\n",
      "req            INFO \tUsing cached data for driver_info\n",
      "req            INFO \tUsing cached data for session_status_data\n",
      "req            INFO \tUsing cached data for track_status_data\n",
      "req            INFO \tUsing cached data for _extended_timing_data\n",
      "req            INFO \tUsing cached data for timing_app_data\n",
      "core           INFO \tProcessing timing data...\n",
      "req            INFO \tUsing cached data for car_data\n",
      "req            INFO \tUsing cached data for position_data\n",
      "req            INFO \tUsing cached data for weather_data\n",
      "req            INFO \tUsing cached data for race_control_messages\n",
      "core           INFO \tFinished loading data for 20 drivers: ['1', '16', '11', '14', '81', '4', '63', '44', '22', '18', '38', '23', '20', '3', '27', '77', '31', '10', '2', '24']\n"
     ]
    }
   ],
   "source": [
    "GSAU_2023 = ff1.get_session(2023, 'Saudi Arabian', 4)\n",
    "GSAU_2023.load()\n",
    "\n",
    "GSAU_2024 = ff1.get_session(2024, 'Saudi Arabian', 4)\n",
    "GSAU_2024.load()"
   ]
  },
  {
   "cell_type": "code",
   "execution_count": 26,
   "metadata": {},
   "outputs": [
    {
     "name": "stderr",
     "output_type": "stream",
     "text": [
      "core           INFO \tLoading data for Australian Grand Prix - Qualifying [v3.4.4]\n",
      "req            INFO \tUsing cached data for session_info\n",
      "req            INFO \tUsing cached data for driver_info\n",
      "req            INFO \tUsing cached data for session_status_data\n",
      "req            INFO \tUsing cached data for track_status_data\n",
      "req            INFO \tUsing cached data for _extended_timing_data\n",
      "req            INFO \tUsing cached data for timing_app_data\n",
      "core           INFO \tProcessing timing data...\n",
      "req            INFO \tUsing cached data for car_data\n",
      "req            INFO \tUsing cached data for position_data\n",
      "req            INFO \tUsing cached data for weather_data\n",
      "req            INFO \tUsing cached data for race_control_messages\n",
      "core           INFO \tFinished loading data for 20 drivers: ['1', '63', '44', '14', '55', '18', '16', '23', '10', '27', '31', '22', '4', '20', '21', '81', '24', '2', '77', '11']\n",
      "core           INFO \tLoading data for Australian Grand Prix - Qualifying [v3.4.4]\n",
      "req            INFO \tUsing cached data for session_info\n",
      "req            INFO \tUsing cached data for driver_info\n",
      "req            INFO \tUsing cached data for session_status_data\n",
      "req            INFO \tUsing cached data for track_status_data\n",
      "req            INFO \tUsing cached data for _extended_timing_data\n",
      "req            INFO \tUsing cached data for timing_app_data\n",
      "core           INFO \tProcessing timing data...\n",
      "req            INFO \tUsing cached data for car_data\n",
      "req            INFO \tUsing cached data for position_data\n",
      "req            INFO \tUsing cached data for weather_data\n",
      "req            INFO \tUsing cached data for race_control_messages\n",
      "core           INFO \tFinished loading data for 19 drivers: ['1', '55', '11', '4', '16', '81', '63', '22', '18', '14', '44', '23', '77', '20', '31', '27', '10', '3', '24']\n"
     ]
    }
   ],
   "source": [
    "GAUS_2023 = ff1.get_session(2023, 'Australian', 4)\n",
    "GAUS_2023.load()\n",
    "\n",
    "GAUS_2024 = ff1.get_session(2024, 'Australian', 4)\n",
    "GAUS_2024.load()"
   ]
  },
  {
   "cell_type": "code",
   "execution_count": 27,
   "metadata": {},
   "outputs": [
    {
     "name": "stderr",
     "output_type": "stream",
     "text": [
      "core           INFO \tLoading data for Miami Grand Prix - Qualifying [v3.4.4]\n"
     ]
    },
    {
     "name": "stderr",
     "output_type": "stream",
     "text": [
      "req            INFO \tUsing cached data for session_info\n",
      "req            INFO \tUsing cached data for driver_info\n",
      "req            INFO \tUsing cached data for session_status_data\n",
      "req            INFO \tUsing cached data for track_status_data\n",
      "req            INFO \tUsing cached data for _extended_timing_data\n",
      "req            INFO \tUsing cached data for timing_app_data\n",
      "core           INFO \tProcessing timing data...\n",
      "req            INFO \tUsing cached data for car_data\n",
      "req            INFO \tUsing cached data for position_data\n",
      "req            INFO \tUsing cached data for weather_data\n",
      "req            INFO \tUsing cached data for race_control_messages\n",
      "core           INFO \tFinished loading data for 20 drivers: ['11', '14', '55', '20', '10', '63', '16', '31', '1', '77', '23', '27', '44', '24', '21', '4', '22', '18', '81', '2']\n",
      "core           INFO \tLoading data for Miami Grand Prix - Qualifying [v3.4.4]\n",
      "req            INFO \tUsing cached data for session_info\n",
      "req            INFO \tUsing cached data for driver_info\n",
      "req            INFO \tUsing cached data for session_status_data\n",
      "req            INFO \tUsing cached data for track_status_data\n",
      "req            INFO \tUsing cached data for _extended_timing_data\n",
      "req            INFO \tUsing cached data for timing_app_data\n",
      "core           INFO \tProcessing timing data...\n",
      "req            INFO \tUsing cached data for car_data\n",
      "req            INFO \tUsing cached data for position_data\n",
      "req            INFO \tUsing cached data for weather_data\n",
      "req            INFO \tUsing cached data for race_control_messages\n",
      "core           INFO \tFinished loading data for 20 drivers: ['1', '16', '55', '11', '4', '81', '63', '44', '27', '22', '18', '10', '31', '23', '14', '77', '2', '3', '20', '24']\n"
     ]
    }
   ],
   "source": [
    "GMIA_2023 = ff1.get_session(2023, 'Miami', 4)\n",
    "GMIA_2023.load()\n",
    "\n",
    "GMIA_2024 = ff1.get_session(2024, 'Miami', 4)\n",
    "GMIA_2024.load()"
   ]
  },
  {
   "cell_type": "code",
   "execution_count": 28,
   "metadata": {},
   "outputs": [
    {
     "name": "stderr",
     "output_type": "stream",
     "text": [
      "core           INFO \tLoading data for Monaco Grand Prix - Qualifying [v3.4.4]\n",
      "req            INFO \tUsing cached data for session_info\n",
      "req            INFO \tUsing cached data for driver_info\n",
      "req            INFO \tUsing cached data for session_status_data\n",
      "req            INFO \tUsing cached data for track_status_data\n",
      "req            INFO \tUsing cached data for _extended_timing_data\n",
      "req            INFO \tUsing cached data for timing_app_data\n",
      "core           INFO \tProcessing timing data...\n",
      "req            INFO \tUsing cached data for car_data\n",
      "req            INFO \tUsing cached data for position_data\n",
      "req            INFO \tUsing cached data for weather_data\n",
      "req            INFO \tUsing cached data for race_control_messages\n",
      "core           INFO \tFinished loading data for 20 drivers: ['1', '14', '16', '31', '55', '44', '10', '63', '22', '4', '81', '21', '23', '18', '77', '2', '20', '27', '24', '11']\n",
      "core           INFO \tLoading data for Monaco Grand Prix - Qualifying [v3.4.4]\n",
      "req            INFO \tUsing cached data for session_info\n",
      "req            INFO \tUsing cached data for driver_info\n",
      "req            INFO \tUsing cached data for session_status_data\n",
      "req            INFO \tUsing cached data for track_status_data\n",
      "req            INFO \tUsing cached data for _extended_timing_data\n",
      "req            INFO \tUsing cached data for timing_app_data\n",
      "core           INFO \tProcessing timing data...\n",
      "core        WARNING \tDriver  3: Lap timing integrity check failed for 1 lap(s)\n",
      "req            INFO \tUsing cached data for car_data\n",
      "req            INFO \tUsing cached data for position_data\n",
      "req            INFO \tUsing cached data for weather_data\n",
      "req            INFO \tUsing cached data for race_control_messages\n",
      "core           INFO \tFinished loading data for 20 drivers: ['16', '81', '55', '4', '63', '1', '44', '22', '23', '10', '31', '27', '3', '18', '20', '14', '2', '11', '77', '24']\n"
     ]
    }
   ],
   "source": [
    "GMON_2023 = ff1.get_session(2023, 'Monaco', 4)\n",
    "GMON_2023.load()\n",
    "\n",
    "GMON_2024 = ff1.get_session(2024, 'Monaco', 4)\n",
    "GMON_2024.load()"
   ]
  },
  {
   "cell_type": "code",
   "execution_count": 29,
   "metadata": {},
   "outputs": [
    {
     "name": "stderr",
     "output_type": "stream",
     "text": [
      "core           INFO \tLoading data for Spanish Grand Prix - Qualifying [v3.4.4]\n",
      "req            INFO \tUsing cached data for session_info\n",
      "req            INFO \tUsing cached data for driver_info\n",
      "req            INFO \tUsing cached data for session_status_data\n",
      "req            INFO \tUsing cached data for track_status_data\n",
      "req            INFO \tUsing cached data for _extended_timing_data\n",
      "req            INFO \tUsing cached data for timing_app_data\n",
      "core           INFO \tProcessing timing data...\n",
      "req            INFO \tUsing cached data for car_data\n",
      "req            INFO \tUsing cached data for position_data\n",
      "req            INFO \tUsing cached data for weather_data\n",
      "req            INFO \tUsing cached data for race_control_messages\n",
      "core           INFO \tFinished loading data for 20 drivers: ['1', '55', '4', '10', '44', '18', '31', '27', '14', '81', '11', '63', '24', '21', '22', '77', '20', '23', '16', '2']\n",
      "core           INFO \tLoading data for Spanish Grand Prix - Qualifying [v3.4.4]\n",
      "req            INFO \tUsing cached data for session_info\n",
      "req            INFO \tUsing cached data for driver_info\n",
      "req            INFO \tUsing cached data for session_status_data\n",
      "req            INFO \tUsing cached data for track_status_data\n",
      "req            INFO \tUsing cached data for _extended_timing_data\n",
      "req            INFO \tUsing cached data for timing_app_data\n",
      "core           INFO \tProcessing timing data...\n",
      "req            INFO \tUsing cached data for car_data\n",
      "req            INFO \tUsing cached data for position_data\n",
      "req            INFO \tUsing cached data for weather_data\n",
      "req            INFO \tUsing cached data for race_control_messages\n",
      "core           INFO \tFinished loading data for 20 drivers: ['4', '1', '44', '63', '16', '55', '10', '11', '31', '81', '14', '77', '27', '18', '24', '20', '22', '3', '23', '2']\n"
     ]
    }
   ],
   "source": [
    "GESP_2023 = ff1.get_session(2023, 'Spain', 4)\n",
    "GESP_2023.load()\n",
    "\n",
    "GESP_2024 = ff1.get_session(2024, 'Spain', 4)\n",
    "GESP_2024.load()"
   ]
  },
  {
   "cell_type": "code",
   "execution_count": 30,
   "metadata": {},
   "outputs": [
    {
     "name": "stderr",
     "output_type": "stream",
     "text": [
      "core           INFO \tLoading data for Austrian Grand Prix - Qualifying [v3.4.4]\n",
      "req            INFO \tUsing cached data for session_info\n",
      "req            INFO \tUsing cached data for driver_info\n",
      "req            INFO \tUsing cached data for session_status_data\n",
      "req            INFO \tUsing cached data for track_status_data\n",
      "req            INFO \tUsing cached data for _extended_timing_data\n",
      "req            INFO \tUsing cached data for timing_app_data\n",
      "core           INFO \tProcessing timing data...\n",
      "req            INFO \tUsing cached data for car_data\n",
      "req            INFO \tUsing cached data for position_data\n",
      "req            INFO \tUsing cached data for weather_data\n",
      "req            INFO \tUsing cached data for race_control_messages\n",
      "core           INFO \tFinished loading data for 20 drivers: ['1', '16', '55', '4', '44', '18', '14', '27', '10', '23', '63', '31', '81', '77', '11', '22', '24', '2', '20', '21']\n",
      "core           INFO \tLoading data for Austrian Grand Prix - Qualifying [v3.4.4]\n",
      "req            INFO \tUsing cached data for session_info\n",
      "req            INFO \tUsing cached data for driver_info\n",
      "req            INFO \tUsing cached data for session_status_data\n",
      "req            INFO \tUsing cached data for track_status_data\n",
      "req            INFO \tUsing cached data for _extended_timing_data\n",
      "req            INFO \tUsing cached data for timing_app_data\n",
      "core           INFO \tProcessing timing data...\n",
      "req            INFO \tUsing cached data for car_data\n",
      "req            INFO \tUsing cached data for position_data\n",
      "req            INFO \tUsing cached data for weather_data\n",
      "req            INFO \tUsing cached data for race_control_messages\n",
      "core           INFO \tFinished loading data for 20 drivers: ['1', '4', '63', '55', '44', '16', '81', '11', '27', '31', '3', '20', '10', '22', '14', '23', '18', '77', '2', '24']\n"
     ]
    }
   ],
   "source": [
    "GAUT_2023 = ff1.get_session(2023, 'Austrian', 2)\n",
    "GAUT_2023.load()\n",
    "\n",
    "GAUT_2024 = ff1.get_session(2024, 'Austrian', 4)\n",
    "GAUT_2024.load()"
   ]
  },
  {
   "cell_type": "code",
   "execution_count": 31,
   "metadata": {},
   "outputs": [
    {
     "name": "stderr",
     "output_type": "stream",
     "text": [
      "core           INFO \tLoading data for British Grand Prix - Qualifying [v3.4.4]\n",
      "req            INFO \tUsing cached data for session_info\n",
      "req            INFO \tUsing cached data for driver_info\n",
      "req            INFO \tUsing cached data for session_status_data\n",
      "req            INFO \tUsing cached data for track_status_data\n",
      "req            INFO \tUsing cached data for _extended_timing_data\n",
      "req            INFO \tUsing cached data for timing_app_data\n",
      "core           INFO \tProcessing timing data...\n",
      "req            INFO \tUsing cached data for car_data\n",
      "req            INFO \tUsing cached data for position_data\n",
      "req            INFO \tUsing cached data for weather_data\n",
      "req            INFO \tUsing cached data for race_control_messages\n",
      "core           INFO \tFinished loading data for 20 drivers: ['1', '4', '81', '16', '55', '63', '44', '23', '14', '10', '27', '18', '31', '2', '77', '11', '22', '24', '21', '20']\n",
      "core           INFO \tLoading data for British Grand Prix - Qualifying [v3.4.4]\n",
      "req            INFO \tUsing cached data for session_info\n",
      "req            INFO \tUsing cached data for driver_info\n",
      "req            INFO \tUsing cached data for session_status_data\n",
      "req            INFO \tUsing cached data for track_status_data\n",
      "req            INFO \tUsing cached data for _extended_timing_data\n",
      "req            INFO \tUsing cached data for timing_app_data\n",
      "core           INFO \tProcessing timing data...\n",
      "req            INFO \tUsing cached data for car_data\n",
      "req            INFO \tUsing cached data for position_data\n",
      "req            INFO \tUsing cached data for weather_data\n",
      "req            INFO \tUsing cached data for race_control_messages\n",
      "core           INFO \tFinished loading data for 20 drivers: ['63', '44', '4', '1', '81', '27', '55', '18', '23', '14', '16', '2', '22', '24', '3', '77', '20', '31', '11', '10']\n"
     ]
    }
   ],
   "source": [
    "GGBR_2023 = ff1.get_session(2023, 'British', 4)\n",
    "GGBR_2023.load()\n",
    "\n",
    "GGBR_2024 = ff1.get_session(2024, 'British', 4)\n",
    "GGBR_2024.load()"
   ]
  },
  {
   "cell_type": "code",
   "execution_count": 32,
   "metadata": {},
   "outputs": [
    {
     "name": "stderr",
     "output_type": "stream",
     "text": [
      "core           INFO \tLoading data for Hungarian Grand Prix - Qualifying [v3.4.4]\n",
      "req            INFO \tUsing cached data for session_info\n",
      "req            INFO \tUsing cached data for driver_info\n",
      "req            INFO \tUsing cached data for session_status_data\n",
      "req            INFO \tUsing cached data for track_status_data\n",
      "req            INFO \tUsing cached data for _extended_timing_data\n",
      "req            INFO \tUsing cached data for timing_app_data\n",
      "core           INFO \tProcessing timing data...\n",
      "req            INFO \tUsing cached data for car_data\n",
      "req            INFO \tUsing cached data for position_data\n",
      "req            INFO \tUsing cached data for weather_data\n",
      "req            INFO \tUsing cached data for race_control_messages\n",
      "core           INFO \tFinished loading data for 20 drivers: ['44', '1', '4', '81', '24', '16', '77', '14', '11', '27', '55', '31', '3', '18', '10', '23', '22', '63', '20', '2']\n",
      "core           INFO \tLoading data for Hungarian Grand Prix - Qualifying [v3.4.4]\n",
      "req            INFO \tUsing cached data for session_info\n",
      "req            INFO \tUsing cached data for driver_info\n",
      "req            INFO \tUsing cached data for session_status_data\n",
      "req            INFO \tUsing cached data for track_status_data\n",
      "req            INFO \tUsing cached data for _extended_timing_data\n",
      "req            INFO \tUsing cached data for timing_app_data\n",
      "core           INFO \tProcessing timing data...\n",
      "req            INFO \tUsing cached data for car_data\n",
      "req            INFO \tUsing cached data for position_data\n",
      "req            INFO \tUsing cached data for weather_data\n",
      "req            INFO \tUsing cached data for race_control_messages\n",
      "core           INFO \tFinished loading data for 20 drivers: ['4', '81', '1', '55', '44', '16', '14', '18', '3', '22', '27', '77', '23', '2', '20', '11', '63', '24', '31', '10']\n"
     ]
    }
   ],
   "source": [
    "GHUN_2023 = ff1.get_session(2023, 'Hungarian', 4)\n",
    "GHUN_2023.load()\n",
    "\n",
    "GHUN_2024 = ff1.get_session(2024, 'Hungarian', 4)\n",
    "GHUN_2024.load()"
   ]
  },
  {
   "cell_type": "code",
   "execution_count": 33,
   "metadata": {},
   "outputs": [
    {
     "name": "stderr",
     "output_type": "stream",
     "text": [
      "core           INFO \tLoading data for Italian Grand Prix - Qualifying [v3.4.4]\n",
      "req            INFO \tUsing cached data for session_info\n",
      "req            INFO \tUsing cached data for driver_info\n",
      "req            INFO \tUsing cached data for session_status_data\n",
      "req            INFO \tUsing cached data for track_status_data\n",
      "req            INFO \tUsing cached data for _extended_timing_data\n",
      "req            INFO \tUsing cached data for timing_app_data\n",
      "core           INFO \tProcessing timing data...\n",
      "req            INFO \tUsing cached data for car_data\n",
      "req            INFO \tUsing cached data for position_data\n",
      "req            INFO \tUsing cached data for weather_data\n",
      "req            INFO \tUsing cached data for race_control_messages\n",
      "core           INFO \tFinished loading data for 20 drivers: ['55', '1', '16', '63', '11', '23', '81', '44', '4', '14', '22', '40', '27', '77', '2', '24', '10', '31', '20', '18']\n",
      "core           INFO \tLoading data for Italian Grand Prix - Qualifying [v3.4.4]\n",
      "req            INFO \tUsing cached data for session_info\n",
      "req            INFO \tUsing cached data for driver_info\n",
      "req            INFO \tUsing cached data for session_status_data\n",
      "req            INFO \tUsing cached data for track_status_data\n",
      "req            INFO \tUsing cached data for _extended_timing_data\n",
      "req            INFO \tUsing cached data for timing_app_data\n",
      "core           INFO \tProcessing timing data...\n",
      "req            INFO \tUsing cached data for car_data\n",
      "req            INFO \tUsing cached data for position_data\n",
      "req            INFO \tUsing cached data for weather_data\n",
      "req            INFO \tUsing cached data for race_control_messages\n",
      "core           INFO \tFinished loading data for 20 drivers: ['4', '81', '63', '16', '55', '44', '1', '11', '23', '27', '14', '3', '20', '10', '31', '22', '18', '43', '77', '24']\n"
     ]
    }
   ],
   "source": [
    "GITA_2023 = ff1.get_session(2023, 'Italian', 4)\n",
    "GITA_2023.load()\n",
    "\n",
    "GITA_2024 = ff1.get_session(2024, 'Italian', 4)\n",
    "GITA_2024.load()"
   ]
  },
  {
   "cell_type": "code",
   "execution_count": 34,
   "metadata": {},
   "outputs": [
    {
     "name": "stderr",
     "output_type": "stream",
     "text": [
      "core           INFO \tLoading data for Singapore Grand Prix - Qualifying [v3.4.4]\n"
     ]
    },
    {
     "name": "stderr",
     "output_type": "stream",
     "text": [
      "req            INFO \tUsing cached data for session_info\n",
      "req            INFO \tUsing cached data for driver_info\n",
      "req            INFO \tUsing cached data for session_status_data\n",
      "req            INFO \tUsing cached data for track_status_data\n",
      "req            INFO \tUsing cached data for _extended_timing_data\n",
      "req            INFO \tUsing cached data for timing_app_data\n",
      "core           INFO \tProcessing timing data...\n",
      "req            INFO \tUsing cached data for car_data\n",
      "req            INFO \tUsing cached data for position_data\n",
      "req            INFO \tUsing cached data for weather_data\n",
      "req            INFO \tUsing cached data for race_control_messages\n",
      "core           INFO \tFinished loading data for 20 drivers: ['55', '63', '16', '4', '44', '20', '14', '31', '27', '40', '1', '10', '11', '23', '22', '77', '81', '2', '24', '18']\n",
      "core           INFO \tLoading data for Singapore Grand Prix - Qualifying [v3.4.4]\n",
      "req            INFO \tUsing cached data for session_info\n",
      "req            INFO \tUsing cached data for driver_info\n",
      "req            INFO \tUsing cached data for session_status_data\n",
      "req            INFO \tUsing cached data for track_status_data\n",
      "req            INFO \tUsing cached data for _extended_timing_data\n",
      "req            INFO \tUsing cached data for timing_app_data\n",
      "core           INFO \tProcessing timing data...\n",
      "req            INFO \tUsing cached data for car_data\n",
      "req            INFO \tUsing cached data for position_data\n",
      "req            INFO \tUsing cached data for weather_data\n",
      "req            INFO \tUsing cached data for race_control_messages\n",
      "core           INFO \tFinished loading data for 20 drivers: ['4', '1', '44', '63', '81', '27', '14', '22', '16', '55', '23', '43', '11', '20', '31', '3', '18', '10', '77', '24']\n"
     ]
    }
   ],
   "source": [
    "GSGP_2023 = ff1.get_session(2023, 'Singapore', 4)\n",
    "GSGP_2023.load()\n",
    "\n",
    "GSGP_2024 = ff1.get_session(2024, 'Singapore', 4)\n",
    "GSGP_2024.load()"
   ]
  },
  {
   "cell_type": "code",
   "execution_count": 35,
   "metadata": {},
   "outputs": [
    {
     "name": "stderr",
     "output_type": "stream",
     "text": [
      "core           INFO \tLoading data for United States Grand Prix - Qualifying [v3.4.4]\n",
      "req            INFO \tUsing cached data for session_info\n",
      "req            INFO \tUsing cached data for driver_info\n",
      "Request for URL https://ergast.com/api/f1/2023/18/qualifying.json failed; using cached response\n",
      "Traceback (most recent call last):\n",
      "  File \"c:\\Users\\giacomotommi\\Documents\\.Tutta la Programmazione dell'Uni\\Python x Visu\\.venv\\Lib\\site-packages\\urllib3\\connectionpool.py\", line 789, in urlopen\n",
      "    response = self._make_request(\n",
      "        conn,\n",
      "    ...<10 lines>...\n",
      "        **response_kw,\n",
      "    )\n",
      "  File \"c:\\Users\\giacomotommi\\Documents\\.Tutta la Programmazione dell'Uni\\Python x Visu\\.venv\\Lib\\site-packages\\urllib3\\connectionpool.py\", line 536, in _make_request\n",
      "    response = conn.getresponse()\n",
      "  File \"c:\\Users\\giacomotommi\\Documents\\.Tutta la Programmazione dell'Uni\\Python x Visu\\.venv\\Lib\\site-packages\\urllib3\\connection.py\", line 507, in getresponse\n",
      "    httplib_response = super().getresponse()\n",
      "  File \"C:\\Users\\giacomotommi\\AppData\\Local\\Programs\\Python\\Python313\\Lib\\http\\client.py\", line 1428, in getresponse\n",
      "    response.begin()\n",
      "    ~~~~~~~~~~~~~~^^\n",
      "  File \"C:\\Users\\giacomotommi\\AppData\\Local\\Programs\\Python\\Python313\\Lib\\http\\client.py\", line 331, in begin\n",
      "    version, status, reason = self._read_status()\n",
      "                              ~~~~~~~~~~~~~~~~~^^\n",
      "  File \"C:\\Users\\giacomotommi\\AppData\\Local\\Programs\\Python\\Python313\\Lib\\http\\client.py\", line 300, in _read_status\n",
      "    raise RemoteDisconnected(\"Remote end closed connection without\"\n",
      "                             \" response\")\n",
      "http.client.RemoteDisconnected: Remote end closed connection without response\n",
      "\n",
      "During handling of the above exception, another exception occurred:\n",
      "\n",
      "Traceback (most recent call last):\n",
      "  File \"c:\\Users\\giacomotommi\\Documents\\.Tutta la Programmazione dell'Uni\\Python x Visu\\.venv\\Lib\\site-packages\\requests\\adapters.py\", line 667, in send\n",
      "    resp = conn.urlopen(\n",
      "        method=request.method,\n",
      "    ...<9 lines>...\n",
      "        chunked=chunked,\n",
      "    )\n",
      "  File \"c:\\Users\\giacomotommi\\Documents\\.Tutta la Programmazione dell'Uni\\Python x Visu\\.venv\\Lib\\site-packages\\urllib3\\connectionpool.py\", line 843, in urlopen\n",
      "    retries = retries.increment(\n",
      "        method, url, error=new_e, _pool=self, _stacktrace=sys.exc_info()[2]\n",
      "    )\n",
      "  File \"c:\\Users\\giacomotommi\\Documents\\.Tutta la Programmazione dell'Uni\\Python x Visu\\.venv\\Lib\\site-packages\\urllib3\\util\\retry.py\", line 474, in increment\n",
      "    raise reraise(type(error), error, _stacktrace)\n",
      "          ~~~~~~~^^^^^^^^^^^^^^^^^^^^^^^^^^^^^^^^^\n",
      "  File \"c:\\Users\\giacomotommi\\Documents\\.Tutta la Programmazione dell'Uni\\Python x Visu\\.venv\\Lib\\site-packages\\urllib3\\util\\util.py\", line 38, in reraise\n",
      "    raise value.with_traceback(tb)\n",
      "  File \"c:\\Users\\giacomotommi\\Documents\\.Tutta la Programmazione dell'Uni\\Python x Visu\\.venv\\Lib\\site-packages\\urllib3\\connectionpool.py\", line 789, in urlopen\n",
      "    response = self._make_request(\n",
      "        conn,\n",
      "    ...<10 lines>...\n",
      "        **response_kw,\n",
      "    )\n",
      "  File \"c:\\Users\\giacomotommi\\Documents\\.Tutta la Programmazione dell'Uni\\Python x Visu\\.venv\\Lib\\site-packages\\urllib3\\connectionpool.py\", line 536, in _make_request\n",
      "    response = conn.getresponse()\n",
      "  File \"c:\\Users\\giacomotommi\\Documents\\.Tutta la Programmazione dell'Uni\\Python x Visu\\.venv\\Lib\\site-packages\\urllib3\\connection.py\", line 507, in getresponse\n",
      "    httplib_response = super().getresponse()\n",
      "  File \"C:\\Users\\giacomotommi\\AppData\\Local\\Programs\\Python\\Python313\\Lib\\http\\client.py\", line 1428, in getresponse\n",
      "    response.begin()\n",
      "    ~~~~~~~~~~~~~~^^\n",
      "  File \"C:\\Users\\giacomotommi\\AppData\\Local\\Programs\\Python\\Python313\\Lib\\http\\client.py\", line 331, in begin\n",
      "    version, status, reason = self._read_status()\n",
      "                              ~~~~~~~~~~~~~~~~~^^\n",
      "  File \"C:\\Users\\giacomotommi\\AppData\\Local\\Programs\\Python\\Python313\\Lib\\http\\client.py\", line 300, in _read_status\n",
      "    raise RemoteDisconnected(\"Remote end closed connection without\"\n",
      "                             \" response\")\n",
      "urllib3.exceptions.ProtocolError: ('Connection aborted.', RemoteDisconnected('Remote end closed connection without response'))\n",
      "\n",
      "During handling of the above exception, another exception occurred:\n",
      "\n",
      "Traceback (most recent call last):\n",
      "  File \"c:\\Users\\giacomotommi\\Documents\\.Tutta la Programmazione dell'Uni\\Python x Visu\\.venv\\Lib\\site-packages\\requests_cache\\session.py\", line 286, in _resend\n",
      "    response = self._send_and_cache(request, actions, cached_response, **kwargs)\n",
      "  File \"c:\\Users\\giacomotommi\\Documents\\.Tutta la Programmazione dell'Uni\\Python x Visu\\.venv\\Lib\\site-packages\\requests_cache\\session.py\", line 254, in _send_and_cache\n",
      "    response = super().send(request, **kwargs)\n",
      "  File \"c:\\Users\\giacomotommi\\Documents\\.Tutta la Programmazione dell'Uni\\Python x Visu\\.venv\\Lib\\site-packages\\fastf1\\req.py\", line 136, in send\n",
      "    return super().send(request, **kwargs)\n",
      "           ~~~~~~~~~~~~^^^^^^^^^^^^^^^^^^^\n",
      "  File \"c:\\Users\\giacomotommi\\Documents\\.Tutta la Programmazione dell'Uni\\Python x Visu\\.venv\\Lib\\site-packages\\requests\\sessions.py\", line 703, in send\n",
      "    r = adapter.send(request, **kwargs)\n",
      "  File \"c:\\Users\\giacomotommi\\Documents\\.Tutta la Programmazione dell'Uni\\Python x Visu\\.venv\\Lib\\site-packages\\requests\\adapters.py\", line 682, in send\n",
      "    raise ConnectionError(err, request=request)\n",
      "requests.exceptions.ConnectionError: ('Connection aborted.', RemoteDisconnected('Remote end closed connection without response'))\n",
      "req            INFO \tUsing cached data for session_status_data\n",
      "req            INFO \tUsing cached data for track_status_data\n",
      "req            INFO \tUsing cached data for _extended_timing_data\n",
      "req            INFO \tUsing cached data for timing_app_data\n",
      "core           INFO \tProcessing timing data...\n",
      "req            INFO \tUsing cached data for car_data\n",
      "req            INFO \tUsing cached data for position_data\n",
      "req            INFO \tUsing cached data for weather_data\n",
      "req            INFO \tUsing cached data for race_control_messages\n",
      "core           INFO \tFinished loading data for 20 drivers: ['16', '4', '44', '55', '63', '1', '10', '31', '11', '81', '22', '24', '77', '20', '3', '27', '14', '23', '18', '2']\n",
      "core           INFO \tLoading data for United States Grand Prix - Qualifying [v3.4.4]\n",
      "req            INFO \tUsing cached data for session_info\n",
      "req            INFO \tUsing cached data for driver_info\n",
      "req            INFO \tUsing cached data for session_status_data\n",
      "req            INFO \tUsing cached data for track_status_data\n",
      "req            INFO \tUsing cached data for _extended_timing_data\n",
      "req            INFO \tUsing cached data for timing_app_data\n",
      "core           INFO \tProcessing timing data...\n",
      "req            INFO \tUsing cached data for car_data\n",
      "req            INFO \tUsing cached data for position_data\n",
      "req            INFO \tUsing cached data for weather_data\n",
      "req            INFO \tUsing cached data for race_control_messages\n",
      "core           INFO \tFinished loading data for 20 drivers: ['4', '1', '55', '16', '81', '63', '10', '14', '20', '11', '22', '27', '31', '18', '30', '23', '43', '77', '44', '24']\n"
     ]
    }
   ],
   "source": [
    "GUSA_2023 = ff1.get_session(2023, 'Austin', 2)\n",
    "GUSA_2023.load()\n",
    "\n",
    "GUSA_2024 = ff1.get_session(2024, 'Austin', 4)\n",
    "GUSA_2024.load()"
   ]
  },
  {
   "cell_type": "code",
   "execution_count": 36,
   "metadata": {},
   "outputs": [
    {
     "name": "stderr",
     "output_type": "stream",
     "text": [
      "core           INFO \tLoading data for Mexico City Grand Prix - Qualifying [v3.4.4]\n",
      "req            INFO \tUsing cached data for session_info\n",
      "req            INFO \tUsing cached data for driver_info\n",
      "req            INFO \tUsing cached data for session_status_data\n",
      "req            INFO \tUsing cached data for track_status_data\n",
      "req            INFO \tUsing cached data for _extended_timing_data\n",
      "req            INFO \tUsing cached data for timing_app_data\n",
      "core           INFO \tProcessing timing data...\n",
      "req            INFO \tUsing cached data for car_data\n",
      "req            INFO \tUsing cached data for position_data\n",
      "req            INFO \tUsing cached data for weather_data\n",
      "req            INFO \tUsing cached data for race_control_messages\n",
      "core           INFO \tFinished loading data for 20 drivers: ['16', '55', '1', '3', '11', '44', '81', '63', '77', '24', '10', '27', '14', '23', '22', '31', '20', '18', '4', '2']\n",
      "core           INFO \tLoading data for Mexico City Grand Prix - Qualifying [v3.4.4]\n",
      "req            INFO \tUsing cached data for session_info\n",
      "req            INFO \tUsing cached data for driver_info\n",
      "req            INFO \tUsing cached data for session_status_data\n",
      "req            INFO \tUsing cached data for track_status_data\n",
      "req            INFO \tUsing cached data for _extended_timing_data\n",
      "req            INFO \tUsing cached data for timing_app_data\n",
      "core           INFO \tProcessing timing data...\n",
      "req            INFO \tUsing cached data for car_data\n",
      "req            INFO \tUsing cached data for position_data\n",
      "req            INFO \tUsing cached data for weather_data\n",
      "req            INFO \tUsing cached data for race_control_messages\n",
      "core           INFO \tFinished loading data for 20 drivers: ['55', '1', '4', '16', '63', '44', '20', '10', '23', '27', '22', '30', '14', '18', '77', '43', '81', '11', '31', '24']\n"
     ]
    }
   ],
   "source": [
    "GMEX_2023 = ff1.get_session(2023, 'Mexico', 4)\n",
    "GMEX_2023.load()\n",
    "\n",
    "GMEX_2024 = ff1.get_session(2024, 'Mexico', 4)\n",
    "GMEX_2024.load()"
   ]
  },
  {
   "cell_type": "code",
   "execution_count": 37,
   "metadata": {},
   "outputs": [
    {
     "name": "stderr",
     "output_type": "stream",
     "text": [
      "events      WARNING \tCorrecting user input 'Brazilian' to 'São Paulo Grand Prix'\n",
      "core           INFO \tLoading data for São Paulo Grand Prix - Qualifying [v3.4.4]\n",
      "req            INFO \tUsing cached data for session_info\n",
      "req            INFO \tUsing cached data for driver_info\n",
      "req            INFO \tUsing cached data for session_status_data\n",
      "req            INFO \tUsing cached data for track_status_data\n",
      "req            INFO \tUsing cached data for _extended_timing_data\n",
      "req            INFO \tUsing cached data for timing_app_data\n",
      "core           INFO \tProcessing timing data...\n",
      "req            INFO \tUsing cached data for car_data\n",
      "req            INFO \tUsing cached data for position_data\n",
      "req            INFO \tUsing cached data for weather_data\n",
      "req            INFO \tUsing cached data for race_control_messages\n",
      "core           INFO \tFinished loading data for 20 drivers: ['1', '16', '18', '14', '44', '63', '4', '55', '11', '81', '27', '31', '10', '20', '23', '22', '3', '77', '2', '24']\n",
      "events      WARNING \tCorrecting user input 'Brazilian' to 'São Paulo Grand Prix'\n",
      "core           INFO \tLoading data for São Paulo Grand Prix - Qualifying [v3.4.4]\n",
      "req            INFO \tUsing cached data for session_info\n",
      "req            INFO \tUsing cached data for driver_info\n",
      "req            INFO \tUsing cached data for session_status_data\n",
      "req            INFO \tUsing cached data for track_status_data\n",
      "req            INFO \tUsing cached data for _extended_timing_data\n",
      "req            INFO \tUsing cached data for timing_app_data\n",
      "core           INFO \tProcessing timing data...\n",
      "req            INFO \tUsing cached data for car_data\n",
      "req            INFO \tUsing cached data for position_data\n",
      "req            INFO \tUsing cached data for weather_data\n",
      "req            INFO \tUsing cached data for race_control_messages\n",
      "core           INFO \tFinished loading data for 20 drivers: ['4', '63', '22', '31', '30', '16', '23', '81', '14', '18', '77', '1', '11', '55', '10', '44', '50', '43', '27', '24']\n"
     ]
    }
   ],
   "source": [
    "GBRA_2023 = ff1.get_session(2023, 'Brazilian', 2)\n",
    "GBRA_2023.load()\n",
    "\n",
    "GBRA_2024 = ff1.get_session(2024, 'Brazilian', 4)\n",
    "GBRA_2024.load()"
   ]
  },
  {
   "cell_type": "code",
   "execution_count": 38,
   "metadata": {},
   "outputs": [
    {
     "name": "stderr",
     "output_type": "stream",
     "text": [
      "core           INFO \tLoading data for Las Vegas Grand Prix - Qualifying [v3.4.4]\n",
      "req            INFO \tUsing cached data for session_info\n",
      "req            INFO \tUsing cached data for driver_info\n",
      "req            INFO \tUsing cached data for session_status_data\n",
      "req            INFO \tUsing cached data for track_status_data\n",
      "req            INFO \tUsing cached data for _extended_timing_data\n",
      "req            INFO \tUsing cached data for timing_app_data\n",
      "core           INFO \tProcessing timing data...\n",
      "req            INFO \tUsing cached data for car_data\n",
      "req            INFO \tUsing cached data for position_data\n",
      "req            INFO \tUsing cached data for weather_data\n",
      "req            INFO \tUsing cached data for race_control_messages\n",
      "core           INFO \tFinished loading data for 20 drivers: ['16', '55', '1', '63', '10', '23', '2', '77', '20', '14', '44', '11', '27', '18', '3', '4', '31', '24', '81', '22']\n",
      "core           INFO \tLoading data for Las Vegas Grand Prix - Qualifying [v3.4.4]\n",
      "req            INFO \tUsing cached data for session_info\n",
      "req            INFO \tUsing cached data for driver_info\n",
      "req            INFO \tUsing cached data for session_status_data\n",
      "req            INFO \tUsing cached data for track_status_data\n",
      "req            INFO \tUsing cached data for _extended_timing_data\n",
      "req            INFO \tUsing cached data for timing_app_data\n",
      "core           INFO \tProcessing timing data...\n",
      "req            INFO \tUsing cached data for car_data\n",
      "req            INFO \tUsing cached data for position_data\n",
      "req            INFO \tUsing cached data for weather_data\n",
      "req            INFO \tUsing cached data for race_control_messages\n",
      "core           INFO \tFinished loading data for 20 drivers: ['63', '55', '10', '16', '1', '4', '22', '81', '27', '44', '31', '20', '24', '43', '30', '11', '14', '23', '77', '18']\n"
     ]
    }
   ],
   "source": [
    "GVEG_2023 = ff1.get_session(2023, 'Las Vegas', 4)\n",
    "GVEG_2023.load()\n",
    "\n",
    "GVEG_2024 = ff1.get_session(2024, 'Las Vegas', 4)\n",
    "GVEG_2024.load()"
   ]
  },
  {
   "cell_type": "markdown",
   "metadata": {},
   "source": [
    "## Configurazione e creazione variabili globali\n",
    "+ Configuro la dimensione base dei grafici e il colore di sfondo dei grafici\n",
    "+ Imposto le variabili \"globali\" delle palette dei colori da usare nei grafici e le liste dei gp delle sessioni dei due anni"
   ]
  },
  {
   "cell_type": "code",
   "execution_count": 39,
   "metadata": {},
   "outputs": [
    {
     "name": "stderr",
     "output_type": "stream",
     "text": [
      "c:\\Users\\giacomotommi\\Documents\\.Tutta la Programmazione dell'Uni\\Python x Visu\\.venv\\Lib\\site-packages\\fastf1\\plotting\\_plotting.py:98: FutureWarning: FastF1 will stop modifying the default Matplotlib settings in the future.\n",
      "To opt-in to the new behaviour and remove this warning, explicitly set `misc_mpl_mods=False` when calling `.setup_mpl()`.\n",
      "  warnings.warn(\n"
     ]
    }
   ],
   "source": [
    "plt.rc('figure', figsize=(15.0, 10.0))\n",
    "mpl.rcParams['figure.facecolor'] = 'None' # Il colore di sfondo del grafico seguirà quello del PowerPoint\n",
    "mpl.rcParams['axes.facecolor'] = 'None'\n",
    "f1plt.setup_mpl(color_scheme=None)\n",
    "\n",
    "colors_palette = {\n",
    "    'Red Bull': '#CCA9DD',\n",
    "    'Ferrari': '#CB3234',\n",
    "    'Mercedes': '#A3E7D6',\n",
    "    'Alpine': '#99D6EA',\n",
    "    'Kick Sauber': '#641C34',\n",
    "    'McLaren': '#EFA94A',\n",
    "    'Haas': '#987654',\n",
    "    'RB': '#1E213D',\n",
    "    'Williams': '#4592CE',\n",
    "    'Aston Martin': '#216477',\n",
    "    '2024': '#CDA434',\n",
    "    '2023': '#ABCDEF',\n",
    "    'SQ': '#177245'\n",
    "}\n",
    "\n",
    "# List of sessions for 2023 and 2024\n",
    "sessions_2023 = [GBAR_2023, GSAU_2023, GAUS_2023, GMIA_2023, GMON_2023, GESP_2023, GAUT_2023, GGBR_2023, GHUN_2023, GITA_2023, GSGP_2023, GUSA_2023, GMEX_2023, GVEG_2023]\n",
    "sessions_2024 = [GBAR_2024, GSAU_2024, GAUS_2024, GMIA_2024, GMON_2024, GESP_2024, GAUT_2024, GGBR_2024, GHUN_2024, GITA_2024, GSGP_2024, GUSA_2024, GMEX_2024, GVEG_2024]\n",
    "circuit_name = ['01-BAR', '02-SAU', '03-AUS', '06-MIA', '08-MON', '10-ESP', '11-AUT', '12-GBR', '13-HUN', '16-ITA', '18-SGP', '19-USA', '20-MEX', '22-VEG']"
   ]
  },
  {
   "cell_type": "markdown",
   "metadata": {},
   "source": [
    "## Confronto giro veloce per ogni gp\n",
    "+ Ottengo il giro veloce di ogni gp per l'anno 2023 e 2024\n",
    "+ Creo un plot che li rappresenti uno sotto l'altro"
   ]
  },
  {
   "cell_type": "code",
   "execution_count": 43,
   "metadata": {},
   "outputs": [
    {
     "data": {
      "image/png": "[encoded data removed]",
      "text/plain": [
       "<Figure size 1200x600 with 1 Axes>"
      ]
     },
     "metadata": {
      "needs_background": "light"
     },
     "output_type": "display_data"
    }
   ],
   "source": [
    "# Create empty lists to store the fastest lap times and GP numbers\n",
    "fastest_laps_2023 = []\n",
    "fastest_laps_2024 = []\n",
    "\n",
    "# Extract fastest lap times for 2023\n",
    "for i, session in enumerate(sessions_2023, start=1):\n",
    "    fastest_lap = session.laps.pick_fastest()\n",
    "    fastest_laps_2023.append({'GP': circuit_name[i-1], 'Fastest Lap Time': fastest_lap['LapTime']})\n",
    "\n",
    "# Extract fastest lap times for 2024\n",
    "for i, session in enumerate(sessions_2024, start=1):\n",
    "    fastest_lap = session.laps.pick_fastest()\n",
    "    fastest_laps_2024.append({'GP': circuit_name[i-1], 'Fastest Lap Time': fastest_lap['LapTime']})\n",
    "\n",
    "# Convert lists to DataFrames\n",
    "df_fastest_laps_2023 = pd.DataFrame(fastest_laps_2023)\n",
    "df_fastest_laps_2024 = pd.DataFrame(fastest_laps_2024)\n",
    "\n",
    "plt.figure(figsize=(12, 6))\n",
    "\n",
    "# Plot fastest lap times for 2023\n",
    "plt.plot(df_fastest_laps_2023['GP'], df_fastest_laps_2023['Fastest Lap Time'].apply(lambda x: x.total_seconds()), 'o', color= colors_palette['2023'], label='2023')\n",
    "\n",
    "# Plot fastest lap times for 2024\n",
    "plt.plot(df_fastest_laps_2024['GP'], df_fastest_laps_2024['Fastest Lap Time'].apply(lambda x: x.total_seconds()), 'o', color= colors_palette['2024'], label='2024')\n",
    "\n",
    "# Add labels and title\n",
    "plt.xticks(rotation=45)\n",
    "plt.xlabel('Gran premio (numero - nome)')\n",
    "plt.ylabel('Tempo (s)')\n",
    "plt.title('Giro più veloce in qualifica per GP - 2023 vs 2024 (NON USATO)')\n",
    "plt.legend()\n",
    "\n",
    "# Show plot\n",
    "plt.show()"
   ]
  },
  {
   "cell_type": "markdown",
   "metadata": {},
   "source": [
    "### Differenze delle velocità\n",
    "+ Calcolo la differenza del tempo tra 2023 e 2024\n",
    "+ Creo un barplot che mostri tali differenze in termini di distanza da 0\n",
    "+ Creo lo stesso barplot ma evidenziando solo il gp di Austin"
   ]
  },
  {
   "cell_type": "code",
   "execution_count": 44,
   "metadata": {},
   "outputs": [
    {
     "data": {
      "image/png": "[encoded data removed]",
      "text/plain": [
       "<Figure size 1200x600 with 1 Axes>"
      ]
     },
     "metadata": {
      "needs_background": "light"
     },
     "output_type": "display_data"
    },
    {
     "data": {
      "image/png": "[encoded data removed]",
      "text/plain": [
       "<Figure size 1200x600 with 1 Axes>"
      ]
     },
     "metadata": {
      "needs_background": "light"
     },
     "output_type": "display_data"
    }
   ],
   "source": [
    "differ = df_fastest_laps_2023['Fastest Lap Time'] - df_fastest_laps_2024['Fastest Lap Time']\n",
    "difference = differ.apply(lambda x: -x.total_seconds())  # Convert to decimi di secondo\n",
    "\n",
    "# Plot the difference as a divergent bar chart\n",
    "plt.figure(figsize=(12, 6))\n",
    "bars = plt.bar(df_fastest_laps_2024['GP'], difference, color=[colors_palette['2024'] if val > 0 else colors_palette['2023'] for val in difference])\n",
    "# Add the value of the difference near the bars\n",
    "for bar, val in zip(bars, difference):\n",
    "    height = bar.get_height()\n",
    "    plt.text(bar.get_x() + bar.get_width() / 2, height + (0.05 if val > 0 else -0.05), f'{val:.2f}', ha='center', va='bottom' if height > 0 else 'top')\n",
    "\n",
    "# Add labels and title\n",
    "plt.xticks(rotation=45)\n",
    "plt.xlabel('Gran Premio (numero - nome)')\n",
    "plt.ylabel('Differenza (s)')\n",
    "plt.title('Differenza del giro veloce in ogni gran premio con pari condizioni tra 2023 e 2024')\n",
    "plt.axhline(0, color='black', linestyle='--')  # Add a horizontal line at y=0\n",
    "plt.ylim(-3, 0.75)\n",
    "plt.yticks(np.arange(-3, 0.75, 0.25))\n",
    "\n",
    "# Show plot\n",
    "#plt.savefig('grafici/Differenza_pole_2324.png', dpi=700, bbox_inches='tight')\n",
    "plt.show()\n",
    "\n",
    "# Plot the difference as a divergent bar chart\n",
    "plt.figure(figsize=(12, 6))\n",
    "bars = plt.bar(df_fastest_laps_2024['GP'], difference, color=[colors_palette['2024'] if val > 0 else colors_palette['2023'] for val in difference])\n",
    "# Add the value of the difference near the bars\n",
    "for bar, val in zip(bars, difference):\n",
    "    height = bar.get_height()\n",
    "    plt.text(bar.get_x() + bar.get_width() / 2, height + (0.05 if val > 0 else -0.05), f'{val:.2f}', ha='center', va='bottom' if height > 0 else 'top')\n",
    "\n",
    "# Abbassa il valore alpha di tutti i GP tranne Belgio e Austin\n",
    "for bar, gp in zip(bars, df_fastest_laps_2024['GP']):\n",
    "    if gp not in ['19-USA']:\n",
    "        bar.set_alpha(0.15)\n",
    "\n",
    "# Add labels and title\n",
    "plt.xticks(rotation=45)\n",
    "plt.xlabel('Gran Premio (numero - nome)')\n",
    "plt.ylabel('Differenza (s)')\n",
    "plt.title('Differenza del giro veloce in ogni gran premio con pari condizioni tra 2023 e 2024')\n",
    "plt.axhline(0, color='black', linestyle='--')  # Add a horizontal line at y=0\n",
    "plt.ylim(-3, 0.75)\n",
    "plt.yticks(np.arange(-3, 0.75, 0.25))\n",
    "\n",
    "# Show plot\n",
    "#plt.savefig('grafici/Differenza_pole_2324_soloUSA.png', dpi=700, bbox_inches='tight')\n",
    "plt.show()"
   ]
  },
  {
   "cell_type": "markdown",
   "metadata": {},
   "source": [
    "### Aggiunta gp del Belgio\n",
    "+ Aggiungo i dati del gp del Belgio\n",
    "+ Creo un plot con anche il gp del Belgio per evidenziare le differenze"
   ]
  },
  {
   "cell_type": "code",
   "execution_count": 45,
   "metadata": {},
   "outputs": [
    {
     "name": "stderr",
     "output_type": "stream",
     "text": [
      "core           INFO \tLoading data for Belgian Grand Prix - Qualifying [v3.4.4]\n",
      "req            INFO \tUsing cached data for session_info\n",
      "req            INFO \tUsing cached data for driver_info\n",
      "req            INFO \tUsing cached data for session_status_data\n",
      "req            INFO \tUsing cached data for track_status_data\n",
      "req            INFO \tUsing cached data for _extended_timing_data\n",
      "req            INFO \tUsing cached data for timing_app_data\n",
      "core           INFO \tProcessing timing data...\n",
      "req            INFO \tUsing cached data for car_data\n",
      "req            INFO \tUsing cached data for position_data\n",
      "req            INFO \tUsing cached data for weather_data\n",
      "req            INFO \tUsing cached data for race_control_messages\n",
      "core           INFO \tFinished loading data for 20 drivers: ['1', '16', '11', '44', '55', '81', '4', '63', '14', '18', '22', '10', '20', '77', '31', '23', '24', '2', '3', '27']\n",
      "core           INFO \tLoading data for Belgian Grand Prix - Qualifying [v3.4.4]\n",
      "req            INFO \tUsing cached data for session_info\n",
      "req            INFO \tUsing cached data for driver_info\n",
      "req            INFO \tUsing cached data for session_status_data\n",
      "req            INFO \tUsing cached data for track_status_data\n",
      "req            INFO \tUsing cached data for _extended_timing_data\n",
      "req            INFO \tUsing cached data for timing_app_data\n",
      "core           INFO \tProcessing timing data...\n",
      "req            INFO \tUsing cached data for car_data\n",
      "req            INFO \tUsing cached data for position_data\n",
      "req            INFO \tUsing cached data for weather_data\n",
      "req            INFO \tUsing cached data for race_control_messages\n",
      "core           INFO \tFinished loading data for 20 drivers: ['1', '16', '11', '44', '4', '81', '63', '55', '14', '31', '23', '10', '3', '77', '18', '27', '20', '22', '2', '24']\n"
     ]
    }
   ],
   "source": [
    "GBEL_2023 = ff1.get_session(2023, 'Belgian', 2)\n",
    "GBEL_2023.load()\n",
    "\n",
    "GBEL_2024 = ff1.get_session(2024, 'Belgian', 4)\n",
    "GBEL_2024.load()"
   ]
  },
  {
   "cell_type": "code",
   "execution_count": 47,
   "metadata": {},
   "outputs": [
    {
     "data": {
      "image/png": "[encoded data removed]",
      "text/plain": [
       "<Figure size 1200x600 with 1 Axes>"
      ]
     },
     "metadata": {
      "needs_background": "light"
     },
     "output_type": "display_data"
    }
   ],
   "source": [
    "# Create empty lists to store the fastest lap times and GP numbers\n",
    "fastest_laps_2023 = []\n",
    "fastest_laps_2024 = []\n",
    "\n",
    "# List of sessions for 2023 and 2024\n",
    "sessions_2023 = [GBAR_2023, GSAU_2023, GAUS_2023, GMIA_2023, GMON_2023, GESP_2023, GAUT_2023, GGBR_2023, GHUN_2023, GBEL_2023, GITA_2023, GSGP_2023, GUSA_2023, GMEX_2023, GVEG_2023]\n",
    "sessions_2024 = [GBAR_2024, GSAU_2024, GAUS_2024, GMIA_2024, GMON_2024, GESP_2024, GAUT_2024, GGBR_2024, GHUN_2024, GBEL_2024, GITA_2024, GSGP_2024, GUSA_2024, GMEX_2024, GVEG_2024]\n",
    "circuit_name = ['01-BAR', '02-SAU', '03-AUS', '04-MIA', '05-MON', '06-ESP', '07-AUT', '08-GBR', '09-HUN', '10-BEL', '11-ITA', '12-SGP', '13-USA', '14-MEX', '16-VEG']\n",
    "\n",
    "# Extract fastest lap times for 2023\n",
    "for i, session in enumerate(sessions_2023, start=1):\n",
    "    fastest_lap = session.laps.pick_fastest()\n",
    "    fastest_laps_2023.append({'GP': circuit_name[i-1], 'Fastest Lap Time': fastest_lap['LapTime']})\n",
    "\n",
    "# Extract fastest lap times for 2024\n",
    "for i, session in enumerate(sessions_2024, start=1):\n",
    "    fastest_lap = session.laps.pick_fastest()\n",
    "\n",
    "    fastest_laps_2024.append({'GP': circuit_name[i-1], 'Fastest Lap Time': fastest_lap['LapTime']})\n",
    "\n",
    "# Convert lists to DataFrames\n",
    "df_fastest_laps_2023 = pd.DataFrame(fastest_laps_2023)\n",
    "df_fastest_laps_2024 = pd.DataFrame(fastest_laps_2024)\n",
    "\n",
    "\n",
    "differ = df_fastest_laps_2023['Fastest Lap Time'] - df_fastest_laps_2024['Fastest Lap Time']\n",
    "difference = differ.apply(lambda x: -x.total_seconds())  # Convert to decimi di secondo\n",
    "\n",
    "# Plot the difference as a divergent bar chart\n",
    "plt.figure(figsize=(12, 6))\n",
    "bars = plt.bar(df_fastest_laps_2024['GP'], difference, color=[colors_palette['2024'] if val > 0 else colors_palette['2023'] for val in difference])\n",
    "# Add the value of the difference near the bars\n",
    "for bar, val in zip(bars, difference):\n",
    "    height = bar.get_height()\n",
    "    plt.text(bar.get_x() + bar.get_width() / 2, height + (0.05 if val > 0 else -0.05), f'{val:.2f}', ha='center', va='bottom' if height > 0 else 'top')\n",
    "\n",
    "# Abbassa il valore alpha di tutti i GP tranne Belgio e Austin\n",
    "for bar, gp in zip(bars, df_fastest_laps_2024['GP']):\n",
    "    if gp not in ['10-BEL', '13-USA']:\n",
    "        bar.set_alpha(0.15)\n",
    "\n",
    "# Add labels and title\n",
    "plt.xticks(rotation=45)\n",
    "plt.xlabel('Gran Premio (numero - nome)')\n",
    "plt.ylabel('Differenza (s)')\n",
    "plt.title('Differenza del giro veloce in alcuni gp tra 2023 e 2024')\n",
    "plt.axhline(0, color='black', linestyle='--')  # Add a horizontal line at y=0\n",
    "plt.ylim(-3, 7.5)\n",
    "plt.yticks(np.arange(-3, 7.5, 0.5))\n",
    "\n",
    "# Show plot\n",
    "#plt.savefig('grafici/Differenza_pole_2324_USABEL.png', dpi=700, bbox_inches='tight')\n",
    "plt.show()"
   ]
  },
  {
   "cell_type": "markdown",
   "metadata": {},
   "source": [
    "### Carico i dati dei gp del 2024 non usati prima"
   ]
  },
  {
   "cell_type": "code",
   "execution_count": 48,
   "metadata": {},
   "outputs": [
    {
     "name": "stderr",
     "output_type": "stream",
     "text": [
      "core           INFO \tLoading data for Japanese Grand Prix - Qualifying [v3.4.4]\n",
      "req            INFO \tUsing cached data for session_info\n",
      "req            INFO \tUsing cached data for driver_info\n",
      "req            INFO \tUsing cached data for session_status_data\n",
      "req            INFO \tUsing cached data for track_status_data\n",
      "req            INFO \tUsing cached data for _extended_timing_data\n",
      "req            INFO \tUsing cached data for timing_app_data\n",
      "core           INFO \tProcessing timing data...\n",
      "req            INFO \tUsing cached data for car_data\n",
      "req            INFO \tUsing cached data for position_data\n",
      "req            INFO \tUsing cached data for weather_data\n",
      "req            INFO \tUsing cached data for race_control_messages\n",
      "core           INFO \tFinished loading data for 20 drivers: ['1', '11', '4', '55', '14', '81', '44', '16', '63', '22', '3', '27', '77', '23', '31', '18', '10', '20', '2', '24']\n"
     ]
    }
   ],
   "source": [
    "GJAP_2024 = ff1.get_session(2024, 'Japanese', 4)\n",
    "GJAP_2024.load()"
   ]
  },
  {
   "cell_type": "code",
   "execution_count": 49,
   "metadata": {},
   "outputs": [
    {
     "name": "stderr",
     "output_type": "stream",
     "text": [
      "core           INFO \tLoading data for Chinese Grand Prix - Qualifying [v3.4.4]\n",
      "req            INFO \tUsing cached data for session_info\n",
      "req            INFO \tUsing cached data for driver_info\n",
      "req            INFO \tUsing cached data for session_status_data\n",
      "req            INFO \tUsing cached data for track_status_data\n",
      "req            INFO \tUsing cached data for _extended_timing_data\n",
      "req            INFO \tUsing cached data for timing_app_data\n",
      "core           INFO \tProcessing timing data...\n",
      "req            INFO \tUsing cached data for car_data\n",
      "req            INFO \tUsing cached data for position_data\n",
      "req            INFO \tUsing cached data for weather_data\n",
      "req            INFO \tUsing cached data for race_control_messages\n",
      "core           INFO \tFinished loading data for 20 drivers: ['1', '11', '14', '4', '81', '16', '55', '63', '27', '77', '18', '3', '31', '23', '10', '24', '20', '44', '22', '2']\n"
     ]
    }
   ],
   "source": [
    "GCINA_2024 = ff1.get_session(2024, 'Chinese', 4)\n",
    "GCINA_2024.load()"
   ]
  },
  {
   "cell_type": "code",
   "execution_count": 50,
   "metadata": {},
   "outputs": [
    {
     "name": "stderr",
     "output_type": "stream",
     "text": [
      "core           INFO \tLoading data for Emilia Romagna Grand Prix - Qualifying [v3.4.4]\n",
      "req            INFO \tUsing cached data for session_info\n",
      "req            INFO \tUsing cached data for driver_info\n",
      "req            INFO \tUsing cached data for session_status_data\n",
      "req            INFO \tUsing cached data for track_status_data\n",
      "req            INFO \tUsing cached data for _extended_timing_data\n",
      "req            INFO \tUsing cached data for timing_app_data\n",
      "core           INFO \tProcessing timing data...\n",
      "core        WARNING \tDriver  2: Lap timing integrity check failed for 1 lap(s)\n",
      "req            INFO \tUsing cached data for car_data\n",
      "req            INFO \tUsing cached data for position_data\n",
      "req            INFO \tUsing cached data for weather_data\n",
      "req            INFO \tUsing cached data for race_control_messages\n",
      "core           INFO \tFinished loading data for 20 drivers: ['1', '81', '4', '16', '55', '63', '22', '44', '3', '27', '11', '31', '18', '23', '10', '77', '24', '20', '14', '2']\n"
     ]
    }
   ],
   "source": [
    "GIMO_2024 = ff1.get_session(2024, 'Emilia Romagna', 4)\n",
    "GIMO_2024.load()"
   ]
  },
  {
   "cell_type": "code",
   "execution_count": 51,
   "metadata": {},
   "outputs": [
    {
     "name": "stderr",
     "output_type": "stream",
     "text": [
      "core           INFO \tLoading data for Canadian Grand Prix - Qualifying [v3.4.4]\n",
      "req            INFO \tUsing cached data for session_info\n",
      "req            INFO \tUsing cached data for driver_info\n",
      "req            INFO \tUsing cached data for session_status_data\n",
      "req            INFO \tUsing cached data for track_status_data\n",
      "req            INFO \tUsing cached data for _extended_timing_data\n",
      "req            INFO \tUsing cached data for timing_app_data\n",
      "core           INFO \tProcessing timing data...\n",
      "req            INFO \tUsing cached data for car_data\n",
      "req            INFO \tUsing cached data for position_data\n",
      "req            INFO \tUsing cached data for weather_data\n",
      "req            INFO \tUsing cached data for race_control_messages\n",
      "core           INFO \tFinished loading data for 20 drivers: ['63', '1', '4', '81', '3', '14', '44', '22', '18', '23', '16', '55', '2', '20', '10', '11', '77', '31', '27', '24']\n"
     ]
    }
   ],
   "source": [
    "GCAN_2024 = ff1.get_session(2024, 'Canadian', 4)\n",
    "GCAN_2024.load()"
   ]
  },
  {
   "cell_type": "code",
   "execution_count": 52,
   "metadata": {},
   "outputs": [
    {
     "name": "stderr",
     "output_type": "stream",
     "text": [
      "core           INFO \tLoading data for Dutch Grand Prix - Qualifying [v3.4.4]\n",
      "req            INFO \tUsing cached data for session_info\n",
      "req            INFO \tUsing cached data for driver_info\n",
      "req            INFO \tUsing cached data for session_status_data\n",
      "req            INFO \tUsing cached data for track_status_data\n",
      "req            INFO \tUsing cached data for _extended_timing_data\n",
      "req            INFO \tUsing cached data for timing_app_data\n",
      "core           INFO \tProcessing timing data...\n",
      "core        WARNING \tNo lap data for driver 2\n",
      "core        WARNING \tFailed to perform lap accuracy check - all laps marked as inaccurate (driver 2)\n",
      "req            INFO \tUsing cached data for car_data\n",
      "req            INFO \tUsing cached data for position_data\n",
      "req            INFO \tUsing cached data for weather_data\n",
      "req            INFO \tUsing cached data for race_control_messages\n",
      "core           INFO \tFinished loading data for 20 drivers: ['4', '1', '81', '63', '11', '16', '14', '18', '10', '55', '44', '22', '27', '20', '3', '31', '77', '24', '23', '2']\n"
     ]
    }
   ],
   "source": [
    "GOLA_2024 = ff1.get_session(2024, 'Dutch', 4)\n",
    "GOLA_2024.load()"
   ]
  },
  {
   "cell_type": "code",
   "execution_count": 53,
   "metadata": {},
   "outputs": [
    {
     "name": "stderr",
     "output_type": "stream",
     "text": [
      "core           INFO \tLoading data for Azerbaijan Grand Prix - Qualifying [v3.4.4]\n",
      "req            INFO \tUsing cached data for session_info\n",
      "req            INFO \tUsing cached data for driver_info\n",
      "req            INFO \tUsing cached data for session_status_data\n",
      "req            INFO \tUsing cached data for track_status_data\n",
      "req            INFO \tUsing cached data for _extended_timing_data\n",
      "req            INFO \tUsing cached data for timing_app_data\n",
      "core           INFO \tProcessing timing data...\n",
      "req            INFO \tUsing cached data for car_data\n",
      "req            INFO \tUsing cached data for position_data\n",
      "req            INFO \tUsing cached data for weather_data\n",
      "req            INFO \tUsing cached data for race_control_messages\n",
      "core           INFO \tFinished loading data for 20 drivers: ['16', '81', '55', '11', '63', '1', '44', '14', '43', '23', '50', '22', '27', '18', '3', '4', '77', '24', '31', '10']\n"
     ]
    }
   ],
   "source": [
    "GAZER_2024 = ff1.get_session(2024, 'Azerbaijan', 4)\n",
    "GAZER_2024.load()"
   ]
  },
  {
   "cell_type": "code",
   "execution_count": 54,
   "metadata": {},
   "outputs": [
    {
     "name": "stderr",
     "output_type": "stream",
     "text": [
      "events      WARNING \tCorrecting user input 'Qatar' to 'Qatar Grand Prix'\n",
      "core           INFO \tLoading data for Qatar Grand Prix - Qualifying [v3.4.4]\n",
      "req            INFO \tUsing cached data for session_info\n",
      "req            INFO \tUsing cached data for driver_info\n",
      "req            INFO \tUsing cached data for session_status_data\n",
      "req            INFO \tUsing cached data for track_status_data\n",
      "req            INFO \tUsing cached data for _extended_timing_data\n",
      "req            INFO \tUsing cached data for timing_app_data\n",
      "core           INFO \tProcessing timing data...\n",
      "req            INFO \tUsing cached data for car_data\n",
      "req            INFO \tUsing cached data for position_data\n",
      "req            INFO \tUsing cached data for weather_data\n",
      "req            INFO \tUsing cached data for race_control_messages\n",
      "core           INFO \tFinished loading data for 20 drivers: ['1', '63', '4', '81', '16', '44', '55', '14', '11', '20', '10', '24', '77', '22', '18', '23', '30', '27', '43', '31']\n"
     ]
    }
   ],
   "source": [
    "GQAT_2024 = ff1.get_session(2024, 'Qatar', 4)\n",
    "GQAT_2024.load()"
   ]
  },
  {
   "cell_type": "code",
   "execution_count": 55,
   "metadata": {},
   "outputs": [
    {
     "name": "stderr",
     "output_type": "stream",
     "text": [
      "core           INFO \tLoading data for Saudi Arabian Grand Prix - Qualifying [v3.4.4]\n",
      "req            INFO \tUsing cached data for session_info\n",
      "req            INFO \tUsing cached data for driver_info\n",
      "req            INFO \tUsing cached data for session_status_data\n",
      "req            INFO \tUsing cached data for track_status_data\n",
      "req            INFO \tUsing cached data for _extended_timing_data\n",
      "req            INFO \tUsing cached data for timing_app_data\n",
      "core           INFO \tProcessing timing data...\n",
      "req            INFO \tUsing cached data for car_data\n",
      "req            INFO \tUsing cached data for position_data\n",
      "req            INFO \tUsing cached data for weather_data\n",
      "req            INFO \tUsing cached data for race_control_messages\n",
      "core           INFO \tFinished loading data for 20 drivers: ['1', '16', '11', '14', '81', '4', '63', '44', '22', '18', '38', '23', '20', '3', '27', '77', '31', '10', '2', '24']\n"
     ]
    }
   ],
   "source": [
    "GSAU_2024 = ff1.get_session(2024, 'Saudi Arabian', 4)\n",
    "GSAU_2024.load()"
   ]
  },
  {
   "cell_type": "code",
   "execution_count": null,
   "metadata": {},
   "outputs": [],
   "source": [
    "# List of sessions for 2023 and 2024\n",
    "sessions_2024 = [G1_2024, G2_2024, G3_2024, GJAP_2024, GCINA_2024, G4_2024, GIMO_2024, G5_2024, GCAN_2024, G6_2024, G7_2024, G8_2024, G9_2024, G10_2024, GOLA_2024, G11_2024, GAZER_2024, G12_2024, G13_2024, G14_2024, G15_2024, G16_2024, GQAT_2024, GSAU_2024]\n",
    "\n",
    "circuit_name = ['01-BAR', '02-SAU', '03-AUS', '04-JAP', '05-CHI', '06-MIA', '07-IMO', '08-MON', '09-CAN', '10-ESP', '11-AUT', '12-GBR', '13-HUN', '14-BEL', '15-OLA', '16-ITA', '17-AZB', '18-SGP', '19-USA', '20-MEX', '21-BRA', '22-VEG', '23-QAT', '24-SAU']\n",
    "\n",
    "piloti = ['LEC', 'SAI', 'VER', 'PER', 'NOR', 'PIA', 'HAM', 'RUS']\n",
    "scuderie = ['Ferrari', 'Red Bulls', 'Mclaren', 'Mercedes']\n",
    "\n",
    "and_f = []\n",
    "and_r = []\n",
    "and_mc = []\n",
    "and_me = []\n",
    "\n",
    "# Extract fastest lap times for 2024\n",
    "for i, session in enumerate(sessions_2024, start=1):\n",
    "    fastest_lap = session.laps.pick_drivers(['LEC', 'SAI']).pick_fastest()[['Team', 'LapTime']]\n",
    "    and_f.append({'GP': circuit_name[i-1], 'Team': fastest_lap['Team'], 'Fastest Lap Time': fastest_lap['LapTime']})\n",
    "\n",
    "    fastest_lap = session.laps.pick_drivers(['VER', 'PER']).pick_fastest()[['Team', 'LapTime']]\n",
    "    and_r.append({'GP': circuit_name[i-1], 'Team': fastest_lap['Team'], 'Fastest Lap Time': fastest_lap['LapTime']})\n",
    "\n",
    "    fastest_lap = session.laps.pick_drivers(['NOR', 'PIA']).pick_fastest()[['Team', 'LapTime']]\n",
    "    and_mc.append({'GP': circuit_name[i-1], 'Team': fastest_lap['Team'], 'Fastest Lap Time': fastest_lap['LapTime']})\n",
    "\n",
    "    fastest_lap = session.laps.pick_drivers(['HAM', 'RUS']).pick_fastest()[['Team', 'LapTime']]\n",
    "    and_me.append({'GP': circuit_name[i-1], 'Team': fastest_lap['Team'], 'Fastest Lap Time': fastest_lap['LapTime']})\n",
    "\n",
    "\n",
    "# Convert lists to DataFrames\n",
    "andamento_ferrari = pd.DataFrame(and_f)\n",
    "andamento_redbull = pd.DataFrame(and_r)\n",
    "andamento_mclaren = pd.DataFrame(and_mc)\n",
    "andamento_mercedes = pd.DataFrame(and_me)\n",
    "#print(andamento_ferrari)\n",
    "\n",
    "# Combine all team data into a single DataFrame\n",
    "combined_df = pd.concat([andamento_ferrari, andamento_redbull, andamento_mclaren, andamento_mercedes])\n",
    "\n",
    "# Initialize lists to store the percentage delays\n",
    "ferrari_delay = []\n",
    "redbull_delay = []\n",
    "mclaren_delay = []\n",
    "mercedes_delay = []\n",
    "\n",
    "# Calculate the percentage delay for each GP\n",
    "for gp in circuit_name:\n",
    "    gp_data = combined_df[combined_df['GP'] == gp]\n",
    "    if not gp_data.empty:\n",
    "        fastest_time = gp_data['Fastest Lap Time'].min()\n",
    "        for _, row in gp_data.iterrows():\n",
    "            delay = (((row['Fastest Lap Time'] - fastest_time) / fastest_time) * 100) + 100\n",
    "            if row['Team'] == 'Ferrari':\n",
    "                ferrari_delay.append({'GP': gp, 'Delay (%)': delay})\n",
    "            elif row['Team'] == 'Red Bull Racing':\n",
    "                redbull_delay.append({'GP': gp, 'Delay (%)': delay})\n",
    "            elif row['Team'] == 'McLaren':\n",
    "                mclaren_delay.append({'GP': gp, 'Delay (%)': delay})\n",
    "            elif row['Team'] == 'Mercedes':\n",
    "                mercedes_delay.append({'GP': gp, 'Delay (%)': delay})\n",
    "\n",
    "# Convert lists to DataFrames\n",
    "df_ferrari_delay = pd.DataFrame(ferrari_delay)\n",
    "df_redbull_delay = pd.DataFrame(redbull_delay)\n",
    "df_mclaren_delay = pd.DataFrame(mclaren_delay)\n",
    "df_mercedes_delay = pd.DataFrame(mercedes_delay)\n",
    "\n",
    "# Update the delay value for Red Bull in Brazil\n",
    "df_redbull_delay.loc[df_redbull_delay['GP'] == '21-BRA', 'Delay (%)'] = 101.85\n",
    "\n",
    "#print(df_ferrari_delay)\n",
    "#print(df_redbull_delay)\n",
    "#print(df_mclaren_delay)\n",
    "#print(df_mercedes_delay)"
   ]
  }
 ],
 "metadata": {
  "kernelspec": {
   "display_name": ".venv",
   "language": "python",
   "name": "python3"
  },
  "language_info": {
   "codemirror_mode": {
    "name": "ipython",
    "version": 3
   },
   "file_extension": ".py",
   "mimetype": "text/x-python",
   "name": "python",
   "nbconvert_exporter": "python",
   "pygments_lexer": "ipython3",
   "version": "3.13.0"
  }
 },
 "nbformat": 4,
 "nbformat_minor": 2
}
