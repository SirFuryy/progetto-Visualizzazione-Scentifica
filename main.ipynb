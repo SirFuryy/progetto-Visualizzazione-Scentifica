{
 "cells": [
  {
   "cell_type": "markdown",
   "metadata": {},
   "source": [
    "Inserimento ff1"
   ]
  },
  {
   "cell_type": "code",
   "execution_count": 2,
   "metadata": {},
   "outputs": [
    {
     "name": "stderr",
     "output_type": "stream",
     "text": [
      "core           INFO \tLoading data for United States Grand Prix - Qualifying [v3.4.4]\n",
      "req            INFO \tUsing cached data for session_info\n",
      "req            INFO \tUsing cached data for driver_info\n",
      "req            INFO \tUsing cached data for session_status_data\n",
      "req            INFO \tUsing cached data for track_status_data\n",
      "req            INFO \tUsing cached data for _extended_timing_data\n",
      "req            INFO \tUsing cached data for timing_app_data\n",
      "core           INFO \tProcessing timing data...\n",
      "req            INFO \tUsing cached data for car_data\n",
      "req            INFO \tUsing cached data for position_data\n",
      "req            INFO \tUsing cached data for weather_data\n",
      "req            INFO \tUsing cached data for race_control_messages\n",
      "core           INFO \tFinished loading data for 20 drivers: ['4', '1', '55', '16', '81', '63', '10', '14', '20', '11', '22', '27', '31', '18', '30', '23', '43', '77', '44', '24']\n"
     ]
    },
    {
     "data": {
      "text/plain": [
       "array(['NOR', 'VER', 'SAI', 'LEC', 'PIA', 'RUS', 'GAS', 'ALO', 'MAG',\n",
       "       'PER', 'TSU', 'HUL', 'OCO', 'STR', 'LAW', 'ALB', 'COL', 'BOT',\n",
       "       'HAM', 'ZHO'], dtype=object)"
      ]
     },
     "execution_count": 2,
     "metadata": {},
     "output_type": "execute_result"
    }
   ],
   "source": [
    "import fastf1 as ff1 # type: ignore\n",
    "\n",
    "Q = ff1.get_session(2024, 'Austin', 4)\n",
    "Q.load()\n",
    "import pandas as pd\n",
    "drivers = pd.unique(Q.laps['Driver'])\n",
    "drivers"
   ]
  },
  {
   "cell_type": "markdown",
   "metadata": {},
   "source": [
    "Import librerie e impostazione grafici"
   ]
  },
  {
   "cell_type": "code",
   "execution_count": 2,
   "metadata": {},
   "outputs": [],
   "source": [
    "import numpy as np\n",
    "import matplotlib.pyplot as plt\n",
    "import matplotlib as mpl\n",
    "import fastf1.plotting as f1plt\n",
    "import fastf1.utils as f1u\n",
    "import pandas as pd\n",
    "from timple.timedelta import strftimedelta\n",
    "from timple.timedelta import num2timedelta\n",
    "from fastf1.core import Laps\n",
    "\n",
    "plt.rc('figure', figsize=(15.0, 10.0))\n",
    "mpl.rcParams['figure.facecolor'] = 'None' # Il colore di sfondo del grafico seguirà quello del PowerPoint\n",
    "mpl.rcParams['axes.facecolor'] = 'None'\n",
    "f1plt.setup_mpl(color_scheme=None, misc_mpl_mods=False)"
   ]
  },
  {
   "cell_type": "markdown",
   "metadata": {},
   "source": [
    "Inserimento colori"
   ]
  },
  {
   "cell_type": "code",
   "execution_count": 3,
   "metadata": {},
   "outputs": [],
   "source": [
    "### Colori\n",
    "colors_palette = {\n",
    "    # Teams\n",
    "    'Red Bull': '#CCA9DD',\n",
    "    'Ferrari': '#CB3234',\n",
    "    'Mercedes': '#A3E7D6',\n",
    "    'Alpine': '#99D6EA',\n",
    "    'Alfa Romeo': '#641C34',\n",
    "    'McLaren': '#EFA94A',\n",
    "    'Haas': '#987654',\n",
    "    'AlphaTauri': '#1E213D',\n",
    "    'Williams': '#4592CE',\n",
    "    'Aston Martin': '#216477',\n",
    "    # Teams Storici\n",
    "    'Lotus': '#CDA434',\n",
    "    'Renault': '#FFFF66',\n",
    "    'Benetton': '#177245',\n",
    "    'Brabham': '#77DD77',\n",
    "    'Tyrrell': '#ABCDEF'\n",
    "}\n",
    "\n",
    "### Associazione Pilota --> Squadra\n",
    "driver_team = {\n",
    "    'VER': 'Red Bull',\n",
    "    'HAM': 'Mercedes',\n",
    "    'LEC': 'Ferrari',\n",
    "    'NOR': 'McLaren',\n",
    "    'PER': 'Red Bull',\n",
    "    'SAI': 'Ferrari',\n",
    "    'GAS': 'Alpine',\n",
    "    'RUS': 'Mercedes',\n",
    "    'ALB': 'Williams',\n",
    "    'PIA': 'McLaren',\n",
    "    'OCO': 'Alpine',\n",
    "    'RIC': 'AlphaTauri',\n",
    "    'ALO': 'Aston Martin',\n",
    "    'TSU': 'AlphaTauri',\n",
    "    'HUL': 'Haas',\n",
    "    'BOT': 'Alfa Romeo',\n",
    "    'ZHO': 'Alfa Romeo',\n",
    "    'MAG': 'Haas',\n",
    "    'SAR': 'Williams',\n",
    "    'STR': 'Aston Martin'\n",
    "}"
   ]
  }
 ],
 "metadata": {
  "kernelspec": {
   "display_name": ".venv",
   "language": "python",
   "name": "python3"
  },
  "language_info": {
   "codemirror_mode": {
    "name": "ipython",
    "version": 3
   },
   "file_extension": ".py",
   "mimetype": "text/x-python",
   "name": "python",
   "nbconvert_exporter": "python",
   "pygments_lexer": "ipython3",
   "version": "3.13.0"
  }
 },
 "nbformat": 4,
 "nbformat_minor": 2
}
