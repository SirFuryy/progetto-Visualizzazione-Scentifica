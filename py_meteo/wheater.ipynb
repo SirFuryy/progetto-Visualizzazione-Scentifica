{
 "cells": [
  {
   "cell_type": "code",
   "execution_count": 3,
   "metadata": {},
   "outputs": [
    {
     "name": "stderr",
     "output_type": "stream",
     "text": [
      "req         WARNING \tDEFAULT CACHE ENABLED! (442.29 MB) C:\\Users\\giacomotommi\\AppData\\Local\\Temp\\fastf1\n",
      "core           INFO \tLoading data for United States Grand Prix - Qualifying [v3.4.4]\n",
      "req            INFO \tUsing cached data for session_info\n",
      "req            INFO \tUsing cached data for driver_info\n",
      "req            INFO \tUsing cached data for session_status_data\n",
      "req            INFO \tUsing cached data for track_status_data\n",
      "req            INFO \tUsing cached data for _extended_timing_data\n",
      "req            INFO \tUsing cached data for timing_app_data\n",
      "core           INFO \tProcessing timing data...\n",
      "req            INFO \tUsing cached data for car_data\n",
      "req            INFO \tUsing cached data for position_data\n",
      "req            INFO \tUsing cached data for weather_data\n",
      "req            INFO \tUsing cached data for race_control_messages\n",
      "core           INFO \tFinished loading data for 20 drivers: ['4', '1', '55', '16', '81', '63', '10', '14', '20', '11', '22', '27', '31', '18', '30', '23', '43', '77', '44', '24']\n"
     ]
    },
    {
     "name": "stdout",
     "output_type": "stream",
     "text": [
      "2024 Season Round 19: United States Grand Prix - Qualifying\n"
     ]
    },
    {
     "name": "stderr",
     "output_type": "stream",
     "text": [
      "core           INFO \tLoading data for United States Grand Prix - Qualifying [v3.4.4]\n",
      "req            INFO \tUsing cached data for session_info\n",
      "req            INFO \tUsing cached data for driver_info\n",
      "req            INFO \tUsing cached data for session_status_data\n",
      "req            INFO \tUsing cached data for track_status_data\n",
      "req            INFO \tUsing cached data for _extended_timing_data\n",
      "req            INFO \tUsing cached data for timing_app_data\n",
      "core           INFO \tProcessing timing data...\n",
      "req            INFO \tUsing cached data for car_data\n",
      "req            INFO \tUsing cached data for position_data\n",
      "req            INFO \tUsing cached data for weather_data\n",
      "req            INFO \tUsing cached data for race_control_messages\n",
      "core           INFO \tFinished loading data for 20 drivers: ['16', '4', '44', '55', '63', '1', '10', '31', '11', '81', '22', '24', '77', '20', '3', '27', '14', '23', '18', '2']\n"
     ]
    },
    {
     "name": "stdout",
     "output_type": "stream",
     "text": [
      "2023 Season Round 18: United States Grand Prix - Qualifying\n"
     ]
    }
   ],
   "source": [
    "import fastf1 as ff1 # type: ignore\n",
    "import pandas as pd\n",
    "from fastf1.core import Laps\n",
    "\n",
    "Q = ff1.get_session(2024, 'Austin', 4)\n",
    "Q.load(weather=True)\n",
    "print(Q)\n",
    "\n",
    "Q2023 = ff1.get_session(2023, 'Austin', 2)\n",
    "Q2023.load(weather=True)\n",
    "print(Q2023)"
   ]
  },
  {
   "cell_type": "code",
   "execution_count": 4,
   "metadata": {},
   "outputs": [
    {
     "name": "stderr",
     "output_type": "stream",
     "text": [
      "core           INFO \tLoading data for United States Grand Prix - Sprint Qualifying [v3.4.4]\n",
      "req            INFO \tUsing cached data for session_info\n",
      "req            INFO \tUsing cached data for driver_info\n",
      "core        WARNING \tSprint Qualifying is not supported by Ergast! Limited results are calculated from timing data.\n",
      "req            INFO \tUsing cached data for session_status_data\n",
      "req            INFO \tUsing cached data for track_status_data\n",
      "req            INFO \tUsing cached data for _extended_timing_data\n",
      "req            INFO \tUsing cached data for timing_app_data\n",
      "core           INFO \tProcessing timing data...\n",
      "req            INFO \tUsing cached data for car_data\n",
      "req            INFO \tUsing cached data for position_data\n",
      "req            INFO \tUsing cached data for weather_data\n",
      "req            INFO \tUsing cached data for race_control_messages\n",
      "core           INFO \tFinished loading data for 20 drivers: ['1', '63', '16', '4', '55', '27', '44', '20', '22', '43', '11', '10', '18', '14', '30', '81', '31', '23', '77', '24']\n",
      "core           INFO \tLoading data for United States Grand Prix - Sprint Shootout [v3.4.4]\n",
      "req            INFO \tNo cached data found for session_info. Loading data...\n",
      "_api           INFO \tFetching session info data...\n"
     ]
    },
    {
     "name": "stdout",
     "output_type": "stream",
     "text": [
      "2024 Season Round 19: United States Grand Prix - Sprint Qualifying\n"
     ]
    },
    {
     "name": "stderr",
     "output_type": "stream",
     "text": [
      "req            INFO \tData has been written to cache!\n",
      "req            INFO \tNo cached data found for driver_info. Loading data...\n",
      "_api           INFO \tFetching driver list...\n",
      "req            INFO \tData has been written to cache!\n",
      "core        WARNING \tSprint Shootout is not supported by Ergast! Limited results are calculated from timing data.\n",
      "req            INFO \tNo cached data found for session_status_data. Loading data...\n",
      "_api           INFO \tFetching session status data...\n",
      "req            INFO \tData has been written to cache!\n",
      "req            INFO \tNo cached data found for track_status_data. Loading data...\n",
      "_api           INFO \tFetching track status data...\n",
      "req            INFO \tData has been written to cache!\n",
      "req            INFO \tNo cached data found for _extended_timing_data. Loading data...\n",
      "_api           INFO \tFetching timing data...\n",
      "_api           INFO \tParsing timing data...\n",
      "req            INFO \tData has been written to cache!\n",
      "req            INFO \tNo cached data found for timing_app_data. Loading data...\n",
      "_api           INFO \tFetching timing app data...\n",
      "req            INFO \tData has been written to cache!\n",
      "core           INFO \tProcessing timing data...\n",
      "req            INFO \tNo cached data found for car_data. Loading data...\n",
      "_api           INFO \tFetching car data...\n",
      "_api           INFO \tParsing car data...\n",
      "req            INFO \tData has been written to cache!\n",
      "req            INFO \tNo cached data found for position_data. Loading data...\n",
      "_api           INFO \tFetching position data...\n",
      "_api           INFO \tParsing position data...\n",
      "_api        WARNING \tDriver 241: Position data is incomplete!\n",
      "_api        WARNING \tDriver 242: Position data is incomplete!\n",
      "_api        WARNING \tDriver 243: Position data is incomplete!\n",
      "req            INFO \tData has been written to cache!\n",
      "req            INFO \tNo cached data found for weather_data. Loading data...\n",
      "_api           INFO \tFetching weather data...\n",
      "req            INFO \tData has been written to cache!\n",
      "req            INFO \tNo cached data found for race_control_messages. Loading data...\n",
      "_api           INFO \tFetching race control messages...\n",
      "req            INFO \tData has been written to cache!\n",
      "core           INFO \tFinished loading data for 20 drivers: ['1', '16', '44', '4', '81', '55', '11', '63', '23', '10', '3', '14', '31', '18', '24', '27', '20', '77', '22', '2']\n"
     ]
    },
    {
     "name": "stdout",
     "output_type": "stream",
     "text": [
      "2023 Season Round 18: United States Grand Prix - Sprint Shootout\n"
     ]
    }
   ],
   "source": [
    "SQ = ff1.get_session(2024, 'Austin', 2)\n",
    "SQ.load(weather=True)\n",
    "print(SQ)\n",
    "\n",
    "SQ2023 = ff1.get_session(2023, 'Austin', 3)\n",
    "SQ2023.load(weather=True)\n",
    "print(SQ2023)"
   ]
  },
  {
   "cell_type": "code",
   "execution_count": 5,
   "metadata": {},
   "outputs": [
    {
     "name": "stderr",
     "output_type": "stream",
     "text": [
      "core           INFO \tLoading data for United States Grand Prix - Race [v3.4.4]\n",
      "req            INFO \tUsing cached data for session_info\n",
      "req            INFO \tUsing cached data for driver_info\n",
      "req            INFO \tUsing cached data for session_status_data\n",
      "req            INFO \tUsing cached data for lap_count\n",
      "req            INFO \tUsing cached data for track_status_data\n",
      "req            INFO \tUsing cached data for _extended_timing_data\n",
      "req            INFO \tUsing cached data for timing_app_data\n",
      "core           INFO \tProcessing timing data...\n",
      "req            INFO \tUsing cached data for car_data\n",
      "req            INFO \tUsing cached data for position_data\n",
      "req            INFO \tUsing cached data for weather_data\n",
      "req            INFO \tUsing cached data for race_control_messages\n",
      "core           INFO \tFinished loading data for 20 drivers: ['16', '55', '1', '4', '81', '63', '11', '27', '30', '43', '20', '10', '14', '22', '18', '23', '77', '31', '24', '44']\n",
      "core           INFO \tLoading data for United States Grand Prix - Race [v3.4.4]\n",
      "req            INFO \tUsing cached data for session_info\n",
      "req            INFO \tUsing cached data for driver_info\n",
      "req            INFO \tUsing cached data for session_status_data\n",
      "req            INFO \tUsing cached data for lap_count\n",
      "req            INFO \tUsing cached data for track_status_data\n",
      "req            INFO \tUsing cached data for _extended_timing_data\n",
      "req            INFO \tUsing cached data for timing_app_data\n",
      "core           INFO \tProcessing timing data...\n"
     ]
    },
    {
     "name": "stdout",
     "output_type": "stream",
     "text": [
      "2024 Season Round 19: United States Grand Prix - Race\n"
     ]
    },
    {
     "name": "stderr",
     "output_type": "stream",
     "text": [
      "req            INFO \tUsing cached data for car_data\n",
      "req            INFO \tUsing cached data for position_data\n",
      "req            INFO \tUsing cached data for weather_data\n",
      "req            INFO \tUsing cached data for race_control_messages\n",
      "core           INFO \tFinished loading data for 20 drivers: ['1', '4', '55', '11', '63', '10', '18', '22', '23', '2', '27', '77', '24', '20', '3', '14', '81', '31', '44', '16']\n"
     ]
    },
    {
     "name": "stdout",
     "output_type": "stream",
     "text": [
      "2023 Season Round 18: United States Grand Prix - Race\n"
     ]
    }
   ],
   "source": [
    "R = ff1.get_session(2024, 'Austin', 5)\n",
    "R.load(weather=True)\n",
    "print(R)\n",
    "\n",
    "R2023 = ff1.get_session(2023, 'Austin', 5)\n",
    "R2023.load(weather=True)\n",
    "print(R2023)"
   ]
  },
  {
   "cell_type": "code",
   "execution_count": 6,
   "metadata": {},
   "outputs": [
    {
     "name": "stdout",
     "output_type": "stream",
     "text": [
      "                     Time  AirTemp  Humidity  Pressure  Rainfall  TrackTemp  \\\n",
      "0  0 days 00:00:07.881000     28.3      41.0    1002.4     False       37.6   \n",
      "1  0 days 00:01:07.883000     28.3      40.0    1002.4     False       37.6   \n",
      "2  0 days 00:02:07.877000     28.3      40.0    1002.4     False       37.1   \n",
      "3  0 days 00:03:07.888000     28.3      40.0    1002.5     False       37.0   \n",
      "4  0 days 00:04:07.883000     28.1      40.0    1002.5     False       36.8   \n",
      "..                    ...      ...       ...       ...       ...        ...   \n",
      "58 0 days 00:58:08.046000     27.8      43.0    1002.4     False       34.2   \n",
      "59 0 days 00:59:08.069000     27.8      43.0    1002.3     False       34.2   \n",
      "60 0 days 01:00:08.086000     27.8      44.0    1002.4     False       34.2   \n",
      "61 0 days 01:01:08.102000     27.9      44.0    1002.4     False       34.2   \n",
      "62 0 days 01:02:08.098000     27.9      44.0    1002.4     False       34.3   \n",
      "\n",
      "    WindDirection  WindSpeed  \n",
      "0             167        4.0  \n",
      "1             154        4.2  \n",
      "2             179        4.9  \n",
      "3             154        3.6  \n",
      "4             154        4.1  \n",
      "..            ...        ...  \n",
      "58            152        4.9  \n",
      "59            149        3.7  \n",
      "60            150        4.4  \n",
      "61            167        3.2  \n",
      "62            154        3.2  \n",
      "\n",
      "[63 rows x 8 columns]\n"
     ]
    }
   ],
   "source": [
    "print(SQ.weather_data)"
   ]
  },
  {
   "cell_type": "code",
   "execution_count": null,
   "metadata": {},
   "outputs": [],
   "source": []
  },
  {
   "cell_type": "code",
   "execution_count": null,
   "metadata": {},
   "outputs": [],
   "source": []
  },
  {
   "cell_type": "code",
   "execution_count": 5,
   "metadata": {},
   "outputs": [
    {
     "name": "stdout",
     "output_type": "stream",
     "text": [
      "                     Time  AirTemp  Humidity  Pressure  Rainfall  TrackTemp  \\\n",
      "0  0 days 00:00:32.588000     28.5      40.0    1005.5     False       39.2   \n",
      "1  0 days 00:01:32.587000     28.5      41.0    1005.6     False       39.2   \n",
      "2  0 days 00:02:32.588000     28.5      41.0    1005.6     False       39.2   \n",
      "3  0 days 00:03:32.594000     28.5      41.0    1005.5     False       39.1   \n",
      "4  0 days 00:04:32.589000     28.4      41.0    1005.6     False       39.0   \n",
      "..                    ...      ...       ...       ...       ...        ...   \n",
      "70 0 days 01:10:32.875000     28.2      38.0    1005.5     False       36.2   \n",
      "71 0 days 01:11:32.875000     28.1      38.0    1005.4     False       36.2   \n",
      "72 0 days 01:12:32.879000     28.1      38.0    1005.4     False       35.9   \n",
      "73 0 days 01:13:32.892000     28.1      38.0    1005.5     False       35.9   \n",
      "74 0 days 01:14:32.895000     28.2      38.0    1005.5     False       36.0   \n",
      "\n",
      "    WindDirection  WindSpeed  \n",
      "0             176        2.0  \n",
      "1             180        2.4  \n",
      "2             169        1.8  \n",
      "3             170        2.1  \n",
      "4             186        1.3  \n",
      "..            ...        ...  \n",
      "70            161        1.8  \n",
      "71            180        2.1  \n",
      "72            178        2.3  \n",
      "73            170        1.9  \n",
      "74            224        1.4  \n",
      "\n",
      "[75 rows x 8 columns]\n",
      "                     Time  AirTemp  Humidity  Pressure  Rainfall  TrackTemp  \\\n",
      "0  0 days 00:00:36.984000     35.5      12.0     993.5     False       42.6   \n",
      "1  0 days 00:01:36.999000     35.5      12.0     993.4     False       42.6   \n",
      "2  0 days 00:02:36.983000     35.4      12.0     993.4     False       42.6   \n",
      "3  0 days 00:03:36.998000     35.5      12.0     993.5     False       42.5   \n",
      "4  0 days 00:04:36.997000     35.3      12.0     993.5     False       42.5   \n",
      "..                    ...      ...       ...       ...       ...        ...   \n",
      "74 0 days 01:14:37.168000     35.5      13.0     992.9     False       39.8   \n",
      "75 0 days 01:15:37.168000     35.4      13.0     992.9     False       39.7   \n",
      "76 0 days 01:16:37.151000     35.5      13.0     992.9     False       39.7   \n",
      "77 0 days 01:17:37.166000     35.5      13.0     992.9     False       39.7   \n",
      "78 0 days 01:18:37.166000     35.5      13.0     992.9     False       39.6   \n",
      "\n",
      "    WindDirection  WindSpeed  \n",
      "0             289        1.7  \n",
      "1             241        2.2  \n",
      "2             298        2.2  \n",
      "3             310        2.2  \n",
      "4             268        0.8  \n",
      "..            ...        ...  \n",
      "74            279        1.2  \n",
      "75            194        1.2  \n",
      "76            254        1.1  \n",
      "77            259        0.6  \n",
      "78            251        0.6  \n",
      "\n",
      "[79 rows x 8 columns]\n"
     ]
    }
   ],
   "source": [
    "print(Q.weather_data)\n",
    "print(Q2023.weather_data)"
   ]
  },
  {
   "cell_type": "code",
   "execution_count": 7,
   "metadata": {},
   "outputs": [],
   "source": [
    "def save_fastest_laps_to_excel(df, output_file):\n",
    "    with pd.ExcelWriter(output_file, engine=\"openpyxl\") as writer:\n",
    "        df.to_excel(writer, index=False, sheet_name=\"Dati\")\n",
    "        \n",
    "        workbook = writer.book\n",
    "        worksheet = writer.sheets[\"Dati\"]\n",
    "        for col in worksheet.iter_cols(min_row=1, max_row=1, min_col=1, max_col=len(df.columns)):\n",
    "            for cell in col:\n",
    "                cell.style = 'Pandas'\n",
    "\n",
    "from openpyxl import load_workbook\n",
    "def append_to_excel(filename, df, sheet_name=\"Dati\"):\n",
    "    try:\n",
    "        # Carica il file esistente\n",
    "        workbook = load_workbook(filename)\n",
    "        if sheet_name in workbook.sheetnames:\n",
    "            sheet = workbook[sheet_name]\n",
    "            start_row = sheet.max_row + 2  # Calcola la riga di partenza per il nuovo DataFrame\n",
    "        else:\n",
    "            sheet = workbook.create_sheet(sheet_name)\n",
    "            start_row = 1\n",
    "    except FileNotFoundError:\n",
    "        # Se il file non esiste, crealo\n",
    "        workbook = None\n",
    "        start_row = 1\n",
    "\n",
    "    # Scrivi i dati sul file\n",
    "    with pd.ExcelWriter(filename, engine=\"openpyxl\", mode=\"a\", if_sheet_exists=\"overlay\") as writer:\n",
    "        #print(writer.book)\n",
    "        #writer.sheets = {ws.title: ws for ws in workbook.worksheets}\n",
    "        df.to_excel(writer, index=False, header=start_row == 1, startrow=start_row - 1, sheet_name=sheet_name)\n"
   ]
  },
  {
   "cell_type": "code",
   "execution_count": 9,
   "metadata": {},
   "outputs": [],
   "source": [
    "save_fastest_laps_to_excel(Q.weather_data, \"weather_data.xlsx\")\n",
    "append_to_excel(\"weather_data.xlsx\", Q2023.weather_data)\n",
    "\n",
    "# Merge the dataframes\n",
    "# merged_weather = pd.merge(weather_2024, weather_2023, on='Time', suffixes=('_2024', '_2023'))\n",
    "# print(merged_weather)"
   ]
  },
  {
   "cell_type": "code",
   "execution_count": 9,
   "metadata": {},
   "outputs": [],
   "source": [
    "append_to_excel(\"weather_data.xlsx\", SQ.weather_data)\n",
    "append_to_excel(\"weather_data.xlsx\", SQ2023.weather_data)\n",
    "append_to_excel(\"weather_data.xlsx\", R.weather_data)\n",
    "append_to_excel(\"weather_data.xlsx\", R2023.weather_data)"
   ]
  },
  {
   "cell_type": "code",
   "execution_count": 4,
   "metadata": {},
   "outputs": [
    {
     "name": "stderr",
     "output_type": "stream",
     "text": [
      "core           INFO \tLoading data for United States Grand Prix - Sprint [v3.4.4]\n",
      "req            INFO \tNo cached data found for session_info. Loading data...\n",
      "_api           INFO \tFetching session info data...\n",
      "req            INFO \tData has been written to cache!\n",
      "req            INFO \tNo cached data found for driver_info. Loading data...\n",
      "_api           INFO \tFetching driver list...\n",
      "req            INFO \tData has been written to cache!\n",
      "req            INFO \tNo cached data found for session_status_data. Loading data...\n",
      "_api           INFO \tFetching session status data...\n",
      "req            INFO \tData has been written to cache!\n",
      "req            INFO \tNo cached data found for lap_count. Loading data...\n",
      "_api           INFO \tFetching lap count data...\n",
      "req            INFO \tData has been written to cache!\n",
      "req            INFO \tNo cached data found for track_status_data. Loading data...\n",
      "_api           INFO \tFetching track status data...\n",
      "req            INFO \tData has been written to cache!\n",
      "req            INFO \tNo cached data found for _extended_timing_data. Loading data...\n",
      "_api           INFO \tFetching timing data...\n",
      "_api           INFO \tParsing timing data...\n",
      "req            INFO \tData has been written to cache!\n",
      "req            INFO \tNo cached data found for timing_app_data. Loading data...\n",
      "_api           INFO \tFetching timing app data...\n",
      "req            INFO \tData has been written to cache!\n",
      "core           INFO \tProcessing timing data...\n",
      "req            INFO \tNo cached data found for car_data. Loading data...\n",
      "_api           INFO \tFetching car data...\n",
      "_api           INFO \tParsing car data...\n",
      "req            INFO \tData has been written to cache!\n",
      "req            INFO \tNo cached data found for position_data. Loading data...\n",
      "_api           INFO \tFetching position data...\n",
      "_api           INFO \tParsing position data...\n",
      "req            INFO \tData has been written to cache!\n",
      "req            INFO \tNo cached data found for weather_data. Loading data...\n",
      "_api           INFO \tFetching weather data...\n",
      "req            INFO \tData has been written to cache!\n",
      "req            INFO \tNo cached data found for race_control_messages. Loading data...\n",
      "_api           INFO \tFetching race control messages...\n",
      "req            INFO \tData has been written to cache!\n",
      "core           INFO \tFinished loading data for 20 drivers: ['1', '55', '4', '16', '63', '44', '20', '27', '11', '81', '22', '43', '18', '10', '31', '30', '23', '14', '24', '77']\n",
      "core           INFO \tLoading data for United States Grand Prix - Sprint [v3.4.4]\n",
      "req            INFO \tUsing cached data for session_info\n",
      "req            INFO \tUsing cached data for driver_info\n"
     ]
    },
    {
     "name": "stdout",
     "output_type": "stream",
     "text": [
      "2024 Season Round 19: United States Grand Prix - Sprint\n"
     ]
    },
    {
     "name": "stderr",
     "output_type": "stream",
     "text": [
      "req            INFO \tUsing cached data for session_status_data\n",
      "req            INFO \tUsing cached data for lap_count\n",
      "req            INFO \tUsing cached data for track_status_data\n",
      "req            INFO \tUsing cached data for _extended_timing_data\n",
      "req            INFO \tUsing cached data for timing_app_data\n",
      "core           INFO \tProcessing timing data...\n",
      "req            INFO \tUsing cached data for car_data\n",
      "req            INFO \tUsing cached data for position_data\n",
      "req            INFO \tUsing cached data for weather_data\n",
      "req            INFO \tUsing cached data for race_control_messages\n",
      "core           INFO \tFinished loading data for 20 drivers: ['1', '44', '16', '4', '11', '55', '10', '63', '23', '81', '31', '3', '14', '22', '27', '77', '24', '20', '2', '18']\n"
     ]
    },
    {
     "name": "stdout",
     "output_type": "stream",
     "text": [
      "2023 Season Round 18: United States Grand Prix - Sprint\n"
     ]
    }
   ],
   "source": [
    "S = ff1.get_session(2024, 'Austin', 3)\n",
    "S.load(weather=True)\n",
    "print(S)\n",
    "\n",
    "S2023 = ff1.get_session(2023, 'Austin', 4)\n",
    "S2023.load(weather=True)\n",
    "print(S2023)"
   ]
  },
  {
   "cell_type": "code",
   "execution_count": 9,
   "metadata": {},
   "outputs": [
    {
     "name": "stdout",
     "output_type": "stream",
     "text": [
      "                     Time  AirTemp  Humidity  Pressure  Rainfall  TrackTemp  \\\n",
      "0  0 days 00:00:32.394000     26.0      50.0    1008.4     False       41.2   \n",
      "1  0 days 00:01:32.404000     26.0      49.0    1008.3     False       41.2   \n",
      "2  0 days 00:02:32.392000     26.1      49.0    1008.4     False       41.1   \n",
      "3  0 days 00:03:32.385000     26.2      49.0    1008.4     False       40.8   \n",
      "4  0 days 00:04:32.398000     26.4      50.0    1008.3     False       40.8   \n",
      "..                    ...      ...       ...       ...       ...        ...   \n",
      "76 0 days 01:16:32.782000     27.4      45.0    1007.0     False       44.8   \n",
      "77 0 days 01:17:32.777000     27.2      46.0    1007.0     False       44.7   \n",
      "78 0 days 01:18:32.780000     27.1      47.0    1006.9     False       44.1   \n",
      "79 0 days 01:19:32.775000     27.0      46.0    1006.9     False       44.0   \n",
      "80 0 days 01:20:32.780000     27.2      45.0    1007.0     False       44.0   \n",
      "\n",
      "    WindDirection  WindSpeed  \n",
      "0              99        1.2  \n",
      "1             183        1.0  \n",
      "2             169        1.7  \n",
      "3             184        2.1  \n",
      "4             185        1.1  \n",
      "..            ...        ...  \n",
      "76            319        2.6  \n",
      "77            334        1.9  \n",
      "78            299        2.2  \n",
      "79            163        2.1  \n",
      "80            180        2.3  \n",
      "\n",
      "[81 rows x 8 columns]\n"
     ]
    }
   ],
   "source": [
    "print(S.weather_data)\n",
    "append_to_excel(\"weather_data.xlsx\", S.weather_data)\n",
    "append_to_excel(\"weather_data.xlsx\", S2023.weather_data)"
   ]
  }
 ],
 "metadata": {
  "kernelspec": {
   "display_name": ".venv",
   "language": "python",
   "name": "python3"
  },
  "language_info": {
   "codemirror_mode": {
    "name": "ipython",
    "version": 3
   },
   "file_extension": ".py",
   "mimetype": "text/x-python",
   "name": "python",
   "nbconvert_exporter": "python",
   "pygments_lexer": "ipython3",
   "version": "3.13.0"
  }
 },
 "nbformat": 4,
 "nbformat_minor": 2
}
