{
 "cells": [
  {
   "cell_type": "code",
   "execution_count": 2,
   "metadata": {},
   "outputs": [],
   "source": [
    "import pandas as pd\n",
    "\n",
    "def save_fastest_laps_to_excel(df, output_file):\n",
    "    with pd.ExcelWriter(output_file, engine=\"openpyxl\") as writer:\n",
    "        df.to_excel(writer, index=False, sheet_name=\"Dati\")\n",
    "        \n",
    "        workbook = writer.book\n",
    "        worksheet = writer.sheets[\"Dati\"]\n",
    "        for col in worksheet.iter_cols(min_row=1, max_row=1, min_col=1, max_col=len(df.columns)):\n",
    "            for cell in col:\n",
    "                cell.style = 'Pandas'\n",
    "\n",
    "from openpyxl import load_workbook\n",
    "def append_to_excel(filename, df, sheet_name=\"Dati\"):\n",
    "    try:\n",
    "        # Carica il file esistente\n",
    "        workbook = load_workbook(filename)\n",
    "        if sheet_name in workbook.sheetnames:\n",
    "            sheet = workbook[sheet_name]\n",
    "            start_row = sheet.max_row + 2  # Calcola la riga di partenza per il nuovo DataFrame\n",
    "        else:\n",
    "            sheet = workbook.create_sheet(sheet_name)\n",
    "            start_row = 1\n",
    "    except FileNotFoundError:\n",
    "        # Se il file non esiste, crealo\n",
    "        workbook = None\n",
    "        start_row = 1\n",
    "\n",
    "    # Scrivi i dati sul file\n",
    "    with pd.ExcelWriter(filename, engine=\"openpyxl\", mode=\"a\", if_sheet_exists=\"overlay\") as writer:\n",
    "        #print(writer.book)\n",
    "        #writer.sheets = {ws.title: ws for ws in workbook.worksheets}\n",
    "        df.to_excel(writer, index=False, header=start_row == 1, startrow=start_row - 1, sheet_name=sheet_name)"
   ]
  },
  {
   "cell_type": "code",
   "execution_count": 4,
   "metadata": {},
   "outputs": [
    {
     "name": "stderr",
     "output_type": "stream",
     "text": [
      "req         WARNING \tDEFAULT CACHE ENABLED! (491.04 MB) C:\\Users\\giacomotommi\\AppData\\Local\\Temp\\fastf1\n",
      "core           INFO \tLoading data for United States Grand Prix - Qualifying [v3.4.4]\n",
      "req            INFO \tUsing cached data for session_info\n",
      "req            INFO \tUsing cached data for driver_info\n",
      "req            INFO \tUsing cached data for session_status_data\n",
      "req            INFO \tUsing cached data for track_status_data\n",
      "req            INFO \tUsing cached data for _extended_timing_data\n",
      "req            INFO \tUsing cached data for timing_app_data\n",
      "core           INFO \tProcessing timing data...\n",
      "req            INFO \tUsing cached data for car_data\n",
      "req            INFO \tUsing cached data for position_data\n",
      "req            INFO \tUsing cached data for weather_data\n",
      "req            INFO \tUsing cached data for race_control_messages\n",
      "core           INFO \tFinished loading data for 20 drivers: ['4', '1', '55', '16', '81', '63', '10', '14', '20', '11', '22', '27', '31', '18', '30', '23', '43', '77', '44', '24']\n"
     ]
    }
   ],
   "source": [
    "import fastf1 as ff1 \n",
    "Q = ff1.get_session(2024, 'Austin', 4)\n",
    "Q.load()"
   ]
  },
  {
   "cell_type": "code",
   "execution_count": 6,
   "metadata": {},
   "outputs": [
    {
     "data": {
      "text/plain": [
       "array(['NOR', 'VER', 'SAI', 'LEC', 'PIA', 'RUS', 'GAS', 'ALO', 'MAG',\n",
       "       'PER', 'TSU', 'HUL', 'OCO', 'STR', 'LAW', 'ALB', 'COL', 'BOT',\n",
       "       'HAM', 'ZHO'], dtype=object)"
      ]
     },
     "execution_count": 6,
     "metadata": {},
     "output_type": "execute_result"
    }
   ],
   "source": [
    "drivers = pd.unique(Q.laps['Driver'])       # ottengo la lista dei piloti in ordine di arrivo\n",
    "Q1, Q2, Q3 = Q.laps.split_qualifying_sessions()    # divido le sessioni di qualifica\n",
    "drivers"
   ]
  },
  {
   "cell_type": "markdown",
   "metadata": {},
   "source": [
    "Ottengo i valori di Perez e Lawson che in altro modo non riuscirei ad ottenere avendo fallito i loro giri lanciati nelle varie sessioni"
   ]
  },
  {
   "cell_type": "code",
   "execution_count": null,
   "metadata": {},
   "outputs": [],
   "source": []
  },
  {
   "cell_type": "markdown",
   "metadata": {},
   "source": [
    "list_fastest_laps = list()\n",
    "for drv in drivers[15:]:\n",
    "    drvs_fastest_lap = Q1.pick_drivers(drv).pick_fastest()\n",
    "    list_fastest_laps.append(drvs_fastest_lap)\n",
    "df = pd.DataFrame(Laps(list_fastest_laps).sort_values(by='LapTime').reset_index(drop=True))"
   ]
  }
 ],
 "metadata": {
  "kernelspec": {
   "display_name": ".venv",
   "language": "python",
   "name": "python3"
  },
  "language_info": {
   "codemirror_mode": {
    "name": "ipython",
    "version": 3
   },
   "file_extension": ".py",
   "mimetype": "text/x-python",
   "name": "python",
   "nbconvert_exporter": "python",
   "pygments_lexer": "ipython3",
   "version": "3.13.0"
  }
 },
 "nbformat": 4,
 "nbformat_minor": 2
}
